{
  "cells": [
    {
      "cell_type": "markdown",
      "source": [
        "# Spark"
      ],
      "metadata": {
        "nteract": {
          "transient": {
            "deleting": false
          }
        }
      }
    },
    {
      "cell_type": "markdown",
      "source": [
        "Taratukhin Oleg, C41323"
      ],
      "metadata": {
        "nteract": {
          "transient": {
            "deleting": false
          }
        }
      }
    },
    {
      "cell_type": "markdown",
      "source": [
        "Initial env setup:"
      ],
      "metadata": {
        "nteract": {
          "transient": {
            "deleting": false
          }
        }
      }
    },
    {
      "cell_type": "code",
      "source": [
        "import pyspark\n",
        "from pyspark import SparkContext\n",
        "from pyspark.sql import SparkSession\n",
        "from pyspark.sql.functions import *\n",
        "from pyspark.sql.types import *\n",
        "import pandas as pd\n",
        "from pathlib import Path\n",
        "\n",
        "spark = SparkSession.builder \\\n",
        "    .appName(\"itmo spark assignment\") \\\n",
        "    .master(\"local[*]\") \\\n",
        "    .getOrCreate()\n",
        "\n",
        "spark"
      ],
      "outputs": [
        {
          "output_type": "execute_result",
          "execution_count": 10,
          "data": {
            "text/plain": [
              "<pyspark.sql.session.SparkSession at 0x123019150>"
            ],
            "text/html": [
              "\n",
              "            <div>\n",
              "                <p><b>SparkSession - in-memory</b></p>\n",
              "                \n",
              "        <div>\n",
              "            <p><b>SparkContext</b></p>\n",
              "\n",
              "            <p><a href=\"http://192.168.31.183:4040\">Spark UI</a></p>\n",
              "\n",
              "            <dl>\n",
              "              <dt>Version</dt>\n",
              "                <dd><code>v2.4.6</code></dd>\n",
              "              <dt>Master</dt>\n",
              "                <dd><code>local[*]</code></dd>\n",
              "              <dt>AppName</dt>\n",
              "                <dd><code>itmo spark assignment</code></dd>\n",
              "            </dl>\n",
              "        </div>\n",
              "        \n",
              "            </div>\n",
              "        "
            ]
          },
          "metadata": {}
        }
      ],
      "execution_count": 10,
      "metadata": {
        "collapsed": true,
        "jupyter": {
          "source_hidden": false,
          "outputs_hidden": false
        },
        "nteract": {
          "transient": {
            "deleting": false
          }
        },
        "execution": {
          "iopub.status.busy": "2020-06-18T21:15:17.065Z",
          "iopub.execute_input": "2020-06-18T21:15:17.070Z",
          "iopub.status.idle": "2020-06-18T21:15:17.083Z",
          "shell.execute_reply": "2020-06-18T21:15:17.092Z"
        }
      }
    },
    {
      "cell_type": "code",
      "source": [
        "!cd data && ls\n",
        "!rm -rf results/task2/\n",
        "\n",
        "PATH_TO_DATA = Path(\"data/\")\n",
        "PATH_TO_RESULTS = Path(\"results/task2/\")"
      ],
      "outputs": [
        {
          "output_type": "stream",
          "name": "stdout",
          "text": [
            "\u001b[1m\u001b[36mfollowers.parquet\u001b[m\u001b[m              \u001b[1m\u001b[36mposts_api.json\u001b[m\u001b[m\r\n",
            "\u001b[1m\u001b[36mfollowers_posts_api_final.json\u001b[m\u001b[m \u001b[1m\u001b[36mposts_likes.parquet\u001b[m\u001b[m\r\n",
            "\u001b[1m\u001b[36mfollowers_posts_likes.parquet\u001b[m\u001b[m\r\n"
          ]
        }
      ],
      "execution_count": 2,
      "metadata": {
        "collapsed": true,
        "jupyter": {
          "source_hidden": false,
          "outputs_hidden": false
        },
        "nteract": {
          "transient": {
            "deleting": false
          }
        },
        "execution": {
          "iopub.status.busy": "2020-06-18T21:12:26.921Z",
          "iopub.execute_input": "2020-06-18T21:12:26.938Z",
          "iopub.status.idle": "2020-06-18T21:12:27.207Z",
          "shell.execute_reply": "2020-06-18T21:12:27.225Z"
        }
      }
    },
    {
      "cell_type": "markdown",
      "source": [
        "utlilities:"
      ],
      "metadata": {
        "nteract": {
          "transient": {
            "deleting": false
          }
        }
      }
    },
    {
      "cell_type": "code",
      "source": [
        "def save_as_json(df: pyspark.sql.dataframe.DataFrame, name: str):\n",
        "    df.write \\\n",
        "        .format(\"json\") \\\n",
        "        .save(str(PATH_TO_RESULTS / name))"
      ],
      "outputs": [],
      "execution_count": 3,
      "metadata": {
        "collapsed": true,
        "jupyter": {
          "source_hidden": false,
          "outputs_hidden": false
        },
        "nteract": {
          "transient": {
            "deleting": false
          }
        },
        "execution": {
          "iopub.status.busy": "2020-06-18T21:12:29.961Z",
          "iopub.execute_input": "2020-06-18T21:12:29.975Z",
          "iopub.status.idle": "2020-06-18T21:12:29.998Z",
          "shell.execute_reply": "2020-06-18T21:12:30.012Z"
        }
      }
    },
    {
      "cell_type": "code",
      "source": [
        "followers_posts_likes = spark \\\n",
        "    .read \\\n",
        "    .parquet(str(PATH_TO_DATA / \"followers_posts_likes.parquet\"))\n",
        "\n",
        "followers_posts_likes \\\n",
        "    .limit(10) \\\n",
        "    .toPandas()"
      ],
      "outputs": [
        {
          "output_type": "execute_result",
          "execution_count": 4,
          "data": {
            "text/plain": [
              "  itemType  ownerId  itemId    likerId\n",
              "0     post     1567    3324       2767\n",
              "1     post     1567    3324     254280\n",
              "2     post     1567    3324     553430\n",
              "3     post     1567    3324     905379\n",
              "4     post     1567    3324    2411502\n",
              "5     post     1567    3324    5274303\n",
              "6     post     1567    3324   50038414\n",
              "7     post     1567    3324   84207602\n",
              "8     post     1567    3324  145422426\n",
              "9     post     1567    3331    4601081"
            ],
            "text/html": [
              "<div>\n",
              "<style scoped>\n",
              "    .dataframe tbody tr th:only-of-type {\n",
              "        vertical-align: middle;\n",
              "    }\n",
              "\n",
              "    .dataframe tbody tr th {\n",
              "        vertical-align: top;\n",
              "    }\n",
              "\n",
              "    .dataframe thead th {\n",
              "        text-align: right;\n",
              "    }\n",
              "</style>\n",
              "<table border=\"1\" class=\"dataframe\">\n",
              "  <thead>\n",
              "    <tr style=\"text-align: right;\">\n",
              "      <th></th>\n",
              "      <th>itemType</th>\n",
              "      <th>ownerId</th>\n",
              "      <th>itemId</th>\n",
              "      <th>likerId</th>\n",
              "    </tr>\n",
              "  </thead>\n",
              "  <tbody>\n",
              "    <tr>\n",
              "      <th>0</th>\n",
              "      <td>post</td>\n",
              "      <td>1567</td>\n",
              "      <td>3324</td>\n",
              "      <td>2767</td>\n",
              "    </tr>\n",
              "    <tr>\n",
              "      <th>1</th>\n",
              "      <td>post</td>\n",
              "      <td>1567</td>\n",
              "      <td>3324</td>\n",
              "      <td>254280</td>\n",
              "    </tr>\n",
              "    <tr>\n",
              "      <th>2</th>\n",
              "      <td>post</td>\n",
              "      <td>1567</td>\n",
              "      <td>3324</td>\n",
              "      <td>553430</td>\n",
              "    </tr>\n",
              "    <tr>\n",
              "      <th>3</th>\n",
              "      <td>post</td>\n",
              "      <td>1567</td>\n",
              "      <td>3324</td>\n",
              "      <td>905379</td>\n",
              "    </tr>\n",
              "    <tr>\n",
              "      <th>4</th>\n",
              "      <td>post</td>\n",
              "      <td>1567</td>\n",
              "      <td>3324</td>\n",
              "      <td>2411502</td>\n",
              "    </tr>\n",
              "    <tr>\n",
              "      <th>5</th>\n",
              "      <td>post</td>\n",
              "      <td>1567</td>\n",
              "      <td>3324</td>\n",
              "      <td>5274303</td>\n",
              "    </tr>\n",
              "    <tr>\n",
              "      <th>6</th>\n",
              "      <td>post</td>\n",
              "      <td>1567</td>\n",
              "      <td>3324</td>\n",
              "      <td>50038414</td>\n",
              "    </tr>\n",
              "    <tr>\n",
              "      <th>7</th>\n",
              "      <td>post</td>\n",
              "      <td>1567</td>\n",
              "      <td>3324</td>\n",
              "      <td>84207602</td>\n",
              "    </tr>\n",
              "    <tr>\n",
              "      <th>8</th>\n",
              "      <td>post</td>\n",
              "      <td>1567</td>\n",
              "      <td>3324</td>\n",
              "      <td>145422426</td>\n",
              "    </tr>\n",
              "    <tr>\n",
              "      <th>9</th>\n",
              "      <td>post</td>\n",
              "      <td>1567</td>\n",
              "      <td>3331</td>\n",
              "      <td>4601081</td>\n",
              "    </tr>\n",
              "  </tbody>\n",
              "</table>\n",
              "</div>"
            ]
          },
          "metadata": {}
        }
      ],
      "execution_count": 4,
      "metadata": {
        "collapsed": true,
        "jupyter": {
          "source_hidden": false,
          "outputs_hidden": false
        },
        "nteract": {
          "transient": {
            "deleting": false
          }
        },
        "execution": {
          "iopub.status.busy": "2020-06-18T21:12:33.261Z",
          "iopub.execute_input": "2020-06-18T21:12:33.275Z",
          "iopub.status.idle": "2020-06-18T21:12:35.901Z",
          "shell.execute_reply": "2020-06-18T21:12:35.960Z"
        }
      }
    },
    {
      "cell_type": "code",
      "source": [
        "posts_likes = spark \\\n",
        "    .read \\\n",
        "    .parquet(str(PATH_TO_DATA / \"posts_likes.parquet\"))\n",
        "\n",
        "posts_likes \\\n",
        "    .limit(10) \\\n",
        "    .toPandas()"
      ],
      "outputs": [
        {
          "output_type": "execute_result",
          "execution_count": 5,
          "data": {
            "text/plain": [
              "  itemType  ownerId  itemId    likerId\n",
              "0     post      -94   13499    2070090\n",
              "1     post      -94   13499   14897197\n",
              "2     post      -94   13499   83555646\n",
              "3     post      -94   13561      58801\n",
              "4     post      -94   13561     839639\n",
              "5     post      -94   13561   17932960\n",
              "6     post      -94   13561   31301979\n",
              "7     post      -94   13561  184719664\n",
              "8     post      -94   13561  201975220\n",
              "9     post      -94   13511      18239"
            ],
            "text/html": [
              "<div>\n",
              "<style scoped>\n",
              "    .dataframe tbody tr th:only-of-type {\n",
              "        vertical-align: middle;\n",
              "    }\n",
              "\n",
              "    .dataframe tbody tr th {\n",
              "        vertical-align: top;\n",
              "    }\n",
              "\n",
              "    .dataframe thead th {\n",
              "        text-align: right;\n",
              "    }\n",
              "</style>\n",
              "<table border=\"1\" class=\"dataframe\">\n",
              "  <thead>\n",
              "    <tr style=\"text-align: right;\">\n",
              "      <th></th>\n",
              "      <th>itemType</th>\n",
              "      <th>ownerId</th>\n",
              "      <th>itemId</th>\n",
              "      <th>likerId</th>\n",
              "    </tr>\n",
              "  </thead>\n",
              "  <tbody>\n",
              "    <tr>\n",
              "      <th>0</th>\n",
              "      <td>post</td>\n",
              "      <td>-94</td>\n",
              "      <td>13499</td>\n",
              "      <td>2070090</td>\n",
              "    </tr>\n",
              "    <tr>\n",
              "      <th>1</th>\n",
              "      <td>post</td>\n",
              "      <td>-94</td>\n",
              "      <td>13499</td>\n",
              "      <td>14897197</td>\n",
              "    </tr>\n",
              "    <tr>\n",
              "      <th>2</th>\n",
              "      <td>post</td>\n",
              "      <td>-94</td>\n",
              "      <td>13499</td>\n",
              "      <td>83555646</td>\n",
              "    </tr>\n",
              "    <tr>\n",
              "      <th>3</th>\n",
              "      <td>post</td>\n",
              "      <td>-94</td>\n",
              "      <td>13561</td>\n",
              "      <td>58801</td>\n",
              "    </tr>\n",
              "    <tr>\n",
              "      <th>4</th>\n",
              "      <td>post</td>\n",
              "      <td>-94</td>\n",
              "      <td>13561</td>\n",
              "      <td>839639</td>\n",
              "    </tr>\n",
              "    <tr>\n",
              "      <th>5</th>\n",
              "      <td>post</td>\n",
              "      <td>-94</td>\n",
              "      <td>13561</td>\n",
              "      <td>17932960</td>\n",
              "    </tr>\n",
              "    <tr>\n",
              "      <th>6</th>\n",
              "      <td>post</td>\n",
              "      <td>-94</td>\n",
              "      <td>13561</td>\n",
              "      <td>31301979</td>\n",
              "    </tr>\n",
              "    <tr>\n",
              "      <th>7</th>\n",
              "      <td>post</td>\n",
              "      <td>-94</td>\n",
              "      <td>13561</td>\n",
              "      <td>184719664</td>\n",
              "    </tr>\n",
              "    <tr>\n",
              "      <th>8</th>\n",
              "      <td>post</td>\n",
              "      <td>-94</td>\n",
              "      <td>13561</td>\n",
              "      <td>201975220</td>\n",
              "    </tr>\n",
              "    <tr>\n",
              "      <th>9</th>\n",
              "      <td>post</td>\n",
              "      <td>-94</td>\n",
              "      <td>13511</td>\n",
              "      <td>18239</td>\n",
              "    </tr>\n",
              "  </tbody>\n",
              "</table>\n",
              "</div>"
            ]
          },
          "metadata": {}
        }
      ],
      "execution_count": 5,
      "metadata": {
        "collapsed": true,
        "jupyter": {
          "source_hidden": false,
          "outputs_hidden": false
        },
        "nteract": {
          "transient": {
            "deleting": false
          }
        },
        "execution": {
          "iopub.status.busy": "2020-06-18T21:12:47.466Z",
          "iopub.execute_input": "2020-06-18T21:12:47.481Z",
          "iopub.status.idle": "2020-06-18T21:12:47.643Z",
          "shell.execute_reply": "2020-06-18T21:12:47.700Z"
        }
      }
    },
    {
      "cell_type": "code",
      "source": [
        "followers_posts_api = spark \\\n",
        "    .read \\\n",
        "    .json(str(PATH_TO_DATA / \"followers_posts_api_final.json\"))\n",
        "\n",
        "followers_posts_api \\\n",
        "    .limit(10) \\\n",
        "    .toPandas()"
      ],
      "outputs": [
        {
          "output_type": "execute_result",
          "execution_count": 6,
          "data": {
            "text/plain": [
              "                                         attachments      comments  \\\n",
              "0  [(None, None, None, None, None, None, None, No...  (0, 0, True)   \n",
              "1  [(None, None, None, None, None, None, (fe02668...  (0, 0, True)   \n",
              "2  [(None, None, None, None, None, None, (c25cda8...  (0, 0, True)   \n",
              "3  [(None, None, None, None, None, None, None, No...  (0, 0, True)   \n",
              "4  [(None, None, None, None, None, None, (7758fb4...  (0, 0, True)   \n",
              "5  [(None, None, None, None, None, None, (666dd69...  (0, 0, True)   \n",
              "6  [(None, None, None, None, None, None, (06ab977...  (0, 0, True)   \n",
              "7  [(None, None, None, None, None, None, (74fdfc9...  (0, 0, True)   \n",
              "8  [(None, None, None, None, None, None, (02804b0...  (0, 0, True)   \n",
              "9  [(None, None, None, None, None, None, (a88e65c...  (1, 1, True)   \n",
              "\n",
              "  copy_history copyright        date final_post  from_id   geo     id  \\\n",
              "0         None      None  1550165023       None    87449  None   3316   \n",
              "1         None      None  1553774858       None    87449  None   3318   \n",
              "2         None      None  1555602008       None    87449  None   3320   \n",
              "3         None      None  1558105050       None    87449  None   3322   \n",
              "4         None      None  1559301729       None    87449  None   3324   \n",
              "5         None      None  1564088944       None    87449  None   3325   \n",
              "6         None      None  1565162341       None    87449  None   3326   \n",
              "7         None      None  1566293696       None    87449  None   3327   \n",
              "8         None      None  1571221102       None    87449  None   3329   \n",
              "9         None      None  1559647730       None    94494  None  11752   \n",
              "\n",
              "  is_pinned          key          likes  owner_id  \\\n",
              "0      None   87449_3316   (1, 1, 6, 0)     87449   \n",
              "1      None   87449_3318  (1, 1, 11, 0)     87449   \n",
              "2      None   87449_3320  (1, 1, 10, 0)     87449   \n",
              "3      None   87449_3322   (1, 1, 8, 0)     87449   \n",
              "4      None   87449_3324   (1, 1, 8, 0)     87449   \n",
              "5      None   87449_3325  (1, 1, 10, 0)     87449   \n",
              "6      None   87449_3326   (1, 1, 6, 0)     87449   \n",
              "7      None   87449_3327   (1, 1, 9, 0)     87449   \n",
              "8      None   87449_3329   (1, 1, 0, 0)     87449   \n",
              "9      None  94494_11752  (1, 1, 17, 0)     94494   \n",
              "\n",
              "                       post_source post_type reposts signer_id  \\\n",
              "0  (None, None, iphone, api, None)      post  (0, 0)      None   \n",
              "1  (None, None, iphone, api, None)      post  (0, 0)      None   \n",
              "2  (None, None, iphone, api, None)      post  (0, 0)      None   \n",
              "3  (None, None, iphone, api, None)      post  (1, 0)      None   \n",
              "4  (None, None, iphone, api, None)      post  (0, 0)      None   \n",
              "5  (None, None, iphone, api, None)      post  (0, 0)      None   \n",
              "6  (None, None, iphone, api, None)      post  (0, 0)      None   \n",
              "7  (None, None, iphone, api, None)      post  (0, 0)      None   \n",
              "8  (None, None, iphone, api, None)      post  (0, 0)      None   \n",
              "9     (None, None, None, vk, None)      post  (0, 0)      None   \n",
              "\n",
              "                                                text unavailable   views  \n",
              "0  Я люблю Вас. Я вчера, даже, хотел Вам это сказ...        None  (428,)  \n",
              "1                             call me by your name ♡        None  (477,)  \n",
              "2                                                  🦋        None  (419,)  \n",
              "3                                        Браво,Юра !        None  (442,)  \n",
              "4                                                  🕊        None  (425,)  \n",
              "5  Самый неприятный побочный эффект взросления дл...        None  (301,)  \n",
              "6                                                  🔅        None  (309,)  \n",
              "7  Пекло.Пушка.Вышка.\\nЧёртов гений Тарантино. Лю...        None  (366,)  \n",
              "8                                                           None  (139,)  \n",
              "9  Тот неловкий момент, когда прилетел из унылого...        None  (594,)  "
            ],
            "text/html": [
              "<div>\n",
              "<style scoped>\n",
              "    .dataframe tbody tr th:only-of-type {\n",
              "        vertical-align: middle;\n",
              "    }\n",
              "\n",
              "    .dataframe tbody tr th {\n",
              "        vertical-align: top;\n",
              "    }\n",
              "\n",
              "    .dataframe thead th {\n",
              "        text-align: right;\n",
              "    }\n",
              "</style>\n",
              "<table border=\"1\" class=\"dataframe\">\n",
              "  <thead>\n",
              "    <tr style=\"text-align: right;\">\n",
              "      <th></th>\n",
              "      <th>attachments</th>\n",
              "      <th>comments</th>\n",
              "      <th>copy_history</th>\n",
              "      <th>copyright</th>\n",
              "      <th>date</th>\n",
              "      <th>final_post</th>\n",
              "      <th>from_id</th>\n",
              "      <th>geo</th>\n",
              "      <th>id</th>\n",
              "      <th>is_pinned</th>\n",
              "      <th>key</th>\n",
              "      <th>likes</th>\n",
              "      <th>owner_id</th>\n",
              "      <th>post_source</th>\n",
              "      <th>post_type</th>\n",
              "      <th>reposts</th>\n",
              "      <th>signer_id</th>\n",
              "      <th>text</th>\n",
              "      <th>unavailable</th>\n",
              "      <th>views</th>\n",
              "    </tr>\n",
              "  </thead>\n",
              "  <tbody>\n",
              "    <tr>\n",
              "      <th>0</th>\n",
              "      <td>[(None, None, None, None, None, None, None, No...</td>\n",
              "      <td>(0, 0, True)</td>\n",
              "      <td>None</td>\n",
              "      <td>None</td>\n",
              "      <td>1550165023</td>\n",
              "      <td>None</td>\n",
              "      <td>87449</td>\n",
              "      <td>None</td>\n",
              "      <td>3316</td>\n",
              "      <td>None</td>\n",
              "      <td>87449_3316</td>\n",
              "      <td>(1, 1, 6, 0)</td>\n",
              "      <td>87449</td>\n",
              "      <td>(None, None, iphone, api, None)</td>\n",
              "      <td>post</td>\n",
              "      <td>(0, 0)</td>\n",
              "      <td>None</td>\n",
              "      <td>Я люблю Вас. Я вчера, даже, хотел Вам это сказ...</td>\n",
              "      <td>None</td>\n",
              "      <td>(428,)</td>\n",
              "    </tr>\n",
              "    <tr>\n",
              "      <th>1</th>\n",
              "      <td>[(None, None, None, None, None, None, (fe02668...</td>\n",
              "      <td>(0, 0, True)</td>\n",
              "      <td>None</td>\n",
              "      <td>None</td>\n",
              "      <td>1553774858</td>\n",
              "      <td>None</td>\n",
              "      <td>87449</td>\n",
              "      <td>None</td>\n",
              "      <td>3318</td>\n",
              "      <td>None</td>\n",
              "      <td>87449_3318</td>\n",
              "      <td>(1, 1, 11, 0)</td>\n",
              "      <td>87449</td>\n",
              "      <td>(None, None, iphone, api, None)</td>\n",
              "      <td>post</td>\n",
              "      <td>(0, 0)</td>\n",
              "      <td>None</td>\n",
              "      <td>call me by your name ♡</td>\n",
              "      <td>None</td>\n",
              "      <td>(477,)</td>\n",
              "    </tr>\n",
              "    <tr>\n",
              "      <th>2</th>\n",
              "      <td>[(None, None, None, None, None, None, (c25cda8...</td>\n",
              "      <td>(0, 0, True)</td>\n",
              "      <td>None</td>\n",
              "      <td>None</td>\n",
              "      <td>1555602008</td>\n",
              "      <td>None</td>\n",
              "      <td>87449</td>\n",
              "      <td>None</td>\n",
              "      <td>3320</td>\n",
              "      <td>None</td>\n",
              "      <td>87449_3320</td>\n",
              "      <td>(1, 1, 10, 0)</td>\n",
              "      <td>87449</td>\n",
              "      <td>(None, None, iphone, api, None)</td>\n",
              "      <td>post</td>\n",
              "      <td>(0, 0)</td>\n",
              "      <td>None</td>\n",
              "      <td>🦋</td>\n",
              "      <td>None</td>\n",
              "      <td>(419,)</td>\n",
              "    </tr>\n",
              "    <tr>\n",
              "      <th>3</th>\n",
              "      <td>[(None, None, None, None, None, None, None, No...</td>\n",
              "      <td>(0, 0, True)</td>\n",
              "      <td>None</td>\n",
              "      <td>None</td>\n",
              "      <td>1558105050</td>\n",
              "      <td>None</td>\n",
              "      <td>87449</td>\n",
              "      <td>None</td>\n",
              "      <td>3322</td>\n",
              "      <td>None</td>\n",
              "      <td>87449_3322</td>\n",
              "      <td>(1, 1, 8, 0)</td>\n",
              "      <td>87449</td>\n",
              "      <td>(None, None, iphone, api, None)</td>\n",
              "      <td>post</td>\n",
              "      <td>(1, 0)</td>\n",
              "      <td>None</td>\n",
              "      <td>Браво,Юра !</td>\n",
              "      <td>None</td>\n",
              "      <td>(442,)</td>\n",
              "    </tr>\n",
              "    <tr>\n",
              "      <th>4</th>\n",
              "      <td>[(None, None, None, None, None, None, (7758fb4...</td>\n",
              "      <td>(0, 0, True)</td>\n",
              "      <td>None</td>\n",
              "      <td>None</td>\n",
              "      <td>1559301729</td>\n",
              "      <td>None</td>\n",
              "      <td>87449</td>\n",
              "      <td>None</td>\n",
              "      <td>3324</td>\n",
              "      <td>None</td>\n",
              "      <td>87449_3324</td>\n",
              "      <td>(1, 1, 8, 0)</td>\n",
              "      <td>87449</td>\n",
              "      <td>(None, None, iphone, api, None)</td>\n",
              "      <td>post</td>\n",
              "      <td>(0, 0)</td>\n",
              "      <td>None</td>\n",
              "      <td>🕊</td>\n",
              "      <td>None</td>\n",
              "      <td>(425,)</td>\n",
              "    </tr>\n",
              "    <tr>\n",
              "      <th>5</th>\n",
              "      <td>[(None, None, None, None, None, None, (666dd69...</td>\n",
              "      <td>(0, 0, True)</td>\n",
              "      <td>None</td>\n",
              "      <td>None</td>\n",
              "      <td>1564088944</td>\n",
              "      <td>None</td>\n",
              "      <td>87449</td>\n",
              "      <td>None</td>\n",
              "      <td>3325</td>\n",
              "      <td>None</td>\n",
              "      <td>87449_3325</td>\n",
              "      <td>(1, 1, 10, 0)</td>\n",
              "      <td>87449</td>\n",
              "      <td>(None, None, iphone, api, None)</td>\n",
              "      <td>post</td>\n",
              "      <td>(0, 0)</td>\n",
              "      <td>None</td>\n",
              "      <td>Самый неприятный побочный эффект взросления дл...</td>\n",
              "      <td>None</td>\n",
              "      <td>(301,)</td>\n",
              "    </tr>\n",
              "    <tr>\n",
              "      <th>6</th>\n",
              "      <td>[(None, None, None, None, None, None, (06ab977...</td>\n",
              "      <td>(0, 0, True)</td>\n",
              "      <td>None</td>\n",
              "      <td>None</td>\n",
              "      <td>1565162341</td>\n",
              "      <td>None</td>\n",
              "      <td>87449</td>\n",
              "      <td>None</td>\n",
              "      <td>3326</td>\n",
              "      <td>None</td>\n",
              "      <td>87449_3326</td>\n",
              "      <td>(1, 1, 6, 0)</td>\n",
              "      <td>87449</td>\n",
              "      <td>(None, None, iphone, api, None)</td>\n",
              "      <td>post</td>\n",
              "      <td>(0, 0)</td>\n",
              "      <td>None</td>\n",
              "      <td>🔅</td>\n",
              "      <td>None</td>\n",
              "      <td>(309,)</td>\n",
              "    </tr>\n",
              "    <tr>\n",
              "      <th>7</th>\n",
              "      <td>[(None, None, None, None, None, None, (74fdfc9...</td>\n",
              "      <td>(0, 0, True)</td>\n",
              "      <td>None</td>\n",
              "      <td>None</td>\n",
              "      <td>1566293696</td>\n",
              "      <td>None</td>\n",
              "      <td>87449</td>\n",
              "      <td>None</td>\n",
              "      <td>3327</td>\n",
              "      <td>None</td>\n",
              "      <td>87449_3327</td>\n",
              "      <td>(1, 1, 9, 0)</td>\n",
              "      <td>87449</td>\n",
              "      <td>(None, None, iphone, api, None)</td>\n",
              "      <td>post</td>\n",
              "      <td>(0, 0)</td>\n",
              "      <td>None</td>\n",
              "      <td>Пекло.Пушка.Вышка.\\nЧёртов гений Тарантино. Лю...</td>\n",
              "      <td>None</td>\n",
              "      <td>(366,)</td>\n",
              "    </tr>\n",
              "    <tr>\n",
              "      <th>8</th>\n",
              "      <td>[(None, None, None, None, None, None, (02804b0...</td>\n",
              "      <td>(0, 0, True)</td>\n",
              "      <td>None</td>\n",
              "      <td>None</td>\n",
              "      <td>1571221102</td>\n",
              "      <td>None</td>\n",
              "      <td>87449</td>\n",
              "      <td>None</td>\n",
              "      <td>3329</td>\n",
              "      <td>None</td>\n",
              "      <td>87449_3329</td>\n",
              "      <td>(1, 1, 0, 0)</td>\n",
              "      <td>87449</td>\n",
              "      <td>(None, None, iphone, api, None)</td>\n",
              "      <td>post</td>\n",
              "      <td>(0, 0)</td>\n",
              "      <td>None</td>\n",
              "      <td></td>\n",
              "      <td>None</td>\n",
              "      <td>(139,)</td>\n",
              "    </tr>\n",
              "    <tr>\n",
              "      <th>9</th>\n",
              "      <td>[(None, None, None, None, None, None, (a88e65c...</td>\n",
              "      <td>(1, 1, True)</td>\n",
              "      <td>None</td>\n",
              "      <td>None</td>\n",
              "      <td>1559647730</td>\n",
              "      <td>None</td>\n",
              "      <td>94494</td>\n",
              "      <td>None</td>\n",
              "      <td>11752</td>\n",
              "      <td>None</td>\n",
              "      <td>94494_11752</td>\n",
              "      <td>(1, 1, 17, 0)</td>\n",
              "      <td>94494</td>\n",
              "      <td>(None, None, None, vk, None)</td>\n",
              "      <td>post</td>\n",
              "      <td>(0, 0)</td>\n",
              "      <td>None</td>\n",
              "      <td>Тот неловкий момент, когда прилетел из унылого...</td>\n",
              "      <td>None</td>\n",
              "      <td>(594,)</td>\n",
              "    </tr>\n",
              "  </tbody>\n",
              "</table>\n",
              "</div>"
            ]
          },
          "metadata": {}
        }
      ],
      "execution_count": 6,
      "metadata": {
        "collapsed": true,
        "jupyter": {
          "source_hidden": false,
          "outputs_hidden": false
        },
        "nteract": {
          "transient": {
            "deleting": false
          }
        },
        "execution": {
          "iopub.status.busy": "2020-06-18T21:12:51.968Z",
          "iopub.execute_input": "2020-06-18T21:12:51.982Z",
          "iopub.status.idle": "2020-06-18T21:13:00.809Z",
          "shell.execute_reply": "2020-06-18T21:13:00.877Z"
        }
      }
    },
    {
      "cell_type": "markdown",
      "source": [
        "## Task 2"
      ],
      "metadata": {
        "nteract": {
          "transient": {
            "deleting": false
          }
        }
      }
    },
    {
      "cell_type": "markdown",
      "source": [
        "Display the top 20 users by likes and reposts made (for reposts use \"copy_history\", from the subset posts)"
      ],
      "metadata": {
        "nteract": {
          "transient": {
            "deleting": false
          }
        }
      }
    },
    {
      "cell_type": "markdown",
      "source": [
        "### Top likers"
      ],
      "metadata": {
        "nteract": {
          "transient": {
            "deleting": false
          }
        }
      }
    },
    {
      "cell_type": "code",
      "source": [
        "top_likers = posts_likes \\\n",
        "    .groupBy(\"likerId\") \\\n",
        "    .count() \\\n",
        "    .orderBy(\"count\", ascending=False) \\\n",
        "    .limit(20)\n",
        "  \n",
        "save_as_json(top_likers, \"task2_top_likers_posts_likes.json\")\n",
        "\n",
        "top_likers.toPandas()"
      ],
      "outputs": [
        {
          "output_type": "execute_result",
          "execution_count": 7,
          "data": {
            "text/plain": [
              "      likerId  count\n",
              "0     2070090   4801\n",
              "1     2397858   2055\n",
              "2     1475301   1829\n",
              "3       18239   1569\n",
              "4      546612   1245\n",
              "5        6371    907\n",
              "6     1841959    746\n",
              "7    78440957    709\n",
              "8      120248    699\n",
              "9    40981497    611\n",
              "10      22158    553\n",
              "11  207628162    548\n",
              "12  329377723    504\n",
              "13   76071304    474\n",
              "14   14805173    440\n",
              "15     317799    385\n",
              "16   56355640    375\n",
              "17   52042971    338\n",
              "18    7437271    336\n",
              "19  136506644    335"
            ],
            "text/html": [
              "<div>\n",
              "<style scoped>\n",
              "    .dataframe tbody tr th:only-of-type {\n",
              "        vertical-align: middle;\n",
              "    }\n",
              "\n",
              "    .dataframe tbody tr th {\n",
              "        vertical-align: top;\n",
              "    }\n",
              "\n",
              "    .dataframe thead th {\n",
              "        text-align: right;\n",
              "    }\n",
              "</style>\n",
              "<table border=\"1\" class=\"dataframe\">\n",
              "  <thead>\n",
              "    <tr style=\"text-align: right;\">\n",
              "      <th></th>\n",
              "      <th>likerId</th>\n",
              "      <th>count</th>\n",
              "    </tr>\n",
              "  </thead>\n",
              "  <tbody>\n",
              "    <tr>\n",
              "      <th>0</th>\n",
              "      <td>2070090</td>\n",
              "      <td>4801</td>\n",
              "    </tr>\n",
              "    <tr>\n",
              "      <th>1</th>\n",
              "      <td>2397858</td>\n",
              "      <td>2055</td>\n",
              "    </tr>\n",
              "    <tr>\n",
              "      <th>2</th>\n",
              "      <td>1475301</td>\n",
              "      <td>1829</td>\n",
              "    </tr>\n",
              "    <tr>\n",
              "      <th>3</th>\n",
              "      <td>18239</td>\n",
              "      <td>1569</td>\n",
              "    </tr>\n",
              "    <tr>\n",
              "      <th>4</th>\n",
              "      <td>546612</td>\n",
              "      <td>1245</td>\n",
              "    </tr>\n",
              "    <tr>\n",
              "      <th>5</th>\n",
              "      <td>6371</td>\n",
              "      <td>907</td>\n",
              "    </tr>\n",
              "    <tr>\n",
              "      <th>6</th>\n",
              "      <td>1841959</td>\n",
              "      <td>746</td>\n",
              "    </tr>\n",
              "    <tr>\n",
              "      <th>7</th>\n",
              "      <td>78440957</td>\n",
              "      <td>709</td>\n",
              "    </tr>\n",
              "    <tr>\n",
              "      <th>8</th>\n",
              "      <td>120248</td>\n",
              "      <td>699</td>\n",
              "    </tr>\n",
              "    <tr>\n",
              "      <th>9</th>\n",
              "      <td>40981497</td>\n",
              "      <td>611</td>\n",
              "    </tr>\n",
              "    <tr>\n",
              "      <th>10</th>\n",
              "      <td>22158</td>\n",
              "      <td>553</td>\n",
              "    </tr>\n",
              "    <tr>\n",
              "      <th>11</th>\n",
              "      <td>207628162</td>\n",
              "      <td>548</td>\n",
              "    </tr>\n",
              "    <tr>\n",
              "      <th>12</th>\n",
              "      <td>329377723</td>\n",
              "      <td>504</td>\n",
              "    </tr>\n",
              "    <tr>\n",
              "      <th>13</th>\n",
              "      <td>76071304</td>\n",
              "      <td>474</td>\n",
              "    </tr>\n",
              "    <tr>\n",
              "      <th>14</th>\n",
              "      <td>14805173</td>\n",
              "      <td>440</td>\n",
              "    </tr>\n",
              "    <tr>\n",
              "      <th>15</th>\n",
              "      <td>317799</td>\n",
              "      <td>385</td>\n",
              "    </tr>\n",
              "    <tr>\n",
              "      <th>16</th>\n",
              "      <td>56355640</td>\n",
              "      <td>375</td>\n",
              "    </tr>\n",
              "    <tr>\n",
              "      <th>17</th>\n",
              "      <td>52042971</td>\n",
              "      <td>338</td>\n",
              "    </tr>\n",
              "    <tr>\n",
              "      <th>18</th>\n",
              "      <td>7437271</td>\n",
              "      <td>336</td>\n",
              "    </tr>\n",
              "    <tr>\n",
              "      <th>19</th>\n",
              "      <td>136506644</td>\n",
              "      <td>335</td>\n",
              "    </tr>\n",
              "  </tbody>\n",
              "</table>\n",
              "</div>"
            ]
          },
          "metadata": {}
        }
      ],
      "execution_count": 7,
      "metadata": {
        "collapsed": true,
        "jupyter": {
          "source_hidden": false,
          "outputs_hidden": false
        },
        "nteract": {
          "transient": {
            "deleting": false
          }
        },
        "execution": {
          "iopub.status.busy": "2020-06-18T21:13:23.724Z",
          "iopub.execute_input": "2020-06-18T21:13:23.739Z",
          "iopub.status.idle": "2020-06-18T21:13:25.330Z",
          "shell.execute_reply": "2020-06-18T21:13:25.386Z"
        }
      }
    },
    {
      "cell_type": "code",
      "source": [
        "top_likers = followers_posts_likes \\\n",
        "    .groupBy(\"likerId\") \\\n",
        "    .count() \\\n",
        "    .orderBy(\"count\", ascending=False) \\\n",
        "    .limit(20)\n",
        "  \n",
        "save_as_json(top_likers, \"task2_top_likers_followers_posts.json\")\n",
        "\n",
        "top_likers.toPandas()"
      ],
      "outputs": [
        {
          "output_type": "execute_result",
          "execution_count": 8,
          "data": {
            "text/plain": [
              "      likerId  count\n",
              "0   194073434   8104\n",
              "1   150371150   5332\n",
              "2   271081114   5261\n",
              "3     6524088   4946\n",
              "4   189597336   3711\n",
              "5   142999083   3394\n",
              "6   215686327   3217\n",
              "7   514404131   2747\n",
              "8     2818498   2350\n",
              "9   419925361   2212\n",
              "10  493380857   2162\n",
              "11  424434709   2122\n",
              "12   95783577   1985\n",
              "13   94697255   1975\n",
              "14    4448812   1777\n",
              "15  330771656   1763\n",
              "16  228571738   1720\n",
              "17  325927416   1661\n",
              "18  347711731   1645\n",
              "19  501177379   1641"
            ],
            "text/html": [
              "<div>\n",
              "<style scoped>\n",
              "    .dataframe tbody tr th:only-of-type {\n",
              "        vertical-align: middle;\n",
              "    }\n",
              "\n",
              "    .dataframe tbody tr th {\n",
              "        vertical-align: top;\n",
              "    }\n",
              "\n",
              "    .dataframe thead th {\n",
              "        text-align: right;\n",
              "    }\n",
              "</style>\n",
              "<table border=\"1\" class=\"dataframe\">\n",
              "  <thead>\n",
              "    <tr style=\"text-align: right;\">\n",
              "      <th></th>\n",
              "      <th>likerId</th>\n",
              "      <th>count</th>\n",
              "    </tr>\n",
              "  </thead>\n",
              "  <tbody>\n",
              "    <tr>\n",
              "      <th>0</th>\n",
              "      <td>194073434</td>\n",
              "      <td>8104</td>\n",
              "    </tr>\n",
              "    <tr>\n",
              "      <th>1</th>\n",
              "      <td>150371150</td>\n",
              "      <td>5332</td>\n",
              "    </tr>\n",
              "    <tr>\n",
              "      <th>2</th>\n",
              "      <td>271081114</td>\n",
              "      <td>5261</td>\n",
              "    </tr>\n",
              "    <tr>\n",
              "      <th>3</th>\n",
              "      <td>6524088</td>\n",
              "      <td>4946</td>\n",
              "    </tr>\n",
              "    <tr>\n",
              "      <th>4</th>\n",
              "      <td>189597336</td>\n",
              "      <td>3711</td>\n",
              "    </tr>\n",
              "    <tr>\n",
              "      <th>5</th>\n",
              "      <td>142999083</td>\n",
              "      <td>3394</td>\n",
              "    </tr>\n",
              "    <tr>\n",
              "      <th>6</th>\n",
              "      <td>215686327</td>\n",
              "      <td>3217</td>\n",
              "    </tr>\n",
              "    <tr>\n",
              "      <th>7</th>\n",
              "      <td>514404131</td>\n",
              "      <td>2747</td>\n",
              "    </tr>\n",
              "    <tr>\n",
              "      <th>8</th>\n",
              "      <td>2818498</td>\n",
              "      <td>2350</td>\n",
              "    </tr>\n",
              "    <tr>\n",
              "      <th>9</th>\n",
              "      <td>419925361</td>\n",
              "      <td>2212</td>\n",
              "    </tr>\n",
              "    <tr>\n",
              "      <th>10</th>\n",
              "      <td>493380857</td>\n",
              "      <td>2162</td>\n",
              "    </tr>\n",
              "    <tr>\n",
              "      <th>11</th>\n",
              "      <td>424434709</td>\n",
              "      <td>2122</td>\n",
              "    </tr>\n",
              "    <tr>\n",
              "      <th>12</th>\n",
              "      <td>95783577</td>\n",
              "      <td>1985</td>\n",
              "    </tr>\n",
              "    <tr>\n",
              "      <th>13</th>\n",
              "      <td>94697255</td>\n",
              "      <td>1975</td>\n",
              "    </tr>\n",
              "    <tr>\n",
              "      <th>14</th>\n",
              "      <td>4448812</td>\n",
              "      <td>1777</td>\n",
              "    </tr>\n",
              "    <tr>\n",
              "      <th>15</th>\n",
              "      <td>330771656</td>\n",
              "      <td>1763</td>\n",
              "    </tr>\n",
              "    <tr>\n",
              "      <th>16</th>\n",
              "      <td>228571738</td>\n",
              "      <td>1720</td>\n",
              "    </tr>\n",
              "    <tr>\n",
              "      <th>17</th>\n",
              "      <td>325927416</td>\n",
              "      <td>1661</td>\n",
              "    </tr>\n",
              "    <tr>\n",
              "      <th>18</th>\n",
              "      <td>347711731</td>\n",
              "      <td>1645</td>\n",
              "    </tr>\n",
              "    <tr>\n",
              "      <th>19</th>\n",
              "      <td>501177379</td>\n",
              "      <td>1641</td>\n",
              "    </tr>\n",
              "  </tbody>\n",
              "</table>\n",
              "</div>"
            ]
          },
          "metadata": {}
        }
      ],
      "execution_count": 8,
      "metadata": {
        "collapsed": true,
        "jupyter": {
          "source_hidden": false,
          "outputs_hidden": false
        },
        "nteract": {
          "transient": {
            "deleting": false
          }
        },
        "execution": {
          "iopub.status.busy": "2020-06-18T21:13:28.009Z",
          "iopub.execute_input": "2020-06-18T21:13:28.026Z",
          "iopub.status.idle": "2020-06-18T21:13:29.989Z",
          "shell.execute_reply": "2020-06-18T21:13:30.008Z"
        }
      }
    },
    {
      "cell_type": "markdown",
      "source": [
        "### Top reposters"
      ],
      "metadata": {
        "nteract": {
          "transient": {
            "deleting": false
          }
        }
      }
    },
    {
      "cell_type": "markdown",
      "source": [
        "The following cell for some reason crashes spark node:"
      ],
      "metadata": {
        "nteract": {
          "transient": {
            "deleting": false
          }
        }
      }
    },
    {
      "cell_type": "code",
      "source": [
        "# followers_posts_api \\\n",
        "#     .select([\"from_id\", \"copy_history\"]) \\\n",
        "#     .where(followers_posts_api.copy_history.isNotNull()) \\\n",
        "#     .orderBy(\"from_id\").groupBy(\"from_id\") \\\n",
        "#     .count() \\\n",
        "#     .sort(\"count\",  ascending=False) \\\n",
        "#     .limit(20)\n",
        "\n",
        "# save_as_json(followers_posts_api, \"task2_top_reposters_followers_posts.json\")\n",
        "\n",
        "# followers_posts_api.toPandas()"
      ],
      "outputs": [],
      "execution_count": null,
      "metadata": {
        "collapsed": true,
        "jupyter": {
          "source_hidden": false,
          "outputs_hidden": false
        },
        "nteract": {
          "transient": {
            "deleting": false
          }
        },
        "execution": {
          "iopub.status.busy": "2020-06-18T21:09:17.900Z",
          "iopub.execute_input": "2020-06-18T21:09:17.906Z",
          "iopub.status.idle": "2020-06-18T21:09:54.418Z",
          "shell.execute_reply": "2020-06-18T21:09:55.866Z"
        }
      }
    },
    {
      "cell_type": "code",
      "source": [
        "top_reposters = followers_posts_api \\\n",
        "    .filter(array_contains(followers_posts_api.copy_history.owner_id, -94)) \\\n",
        "    .groupBy(followers_posts_api.owner_id).count() \\\n",
        "    .orderBy(\"count\", ascending=False) \\\n",
        "    .limit(20)\n",
        "\n",
        "save_as_json(top_reposters, \"task2_top_reposters.json\")\n",
        "\n",
        "top_reposters.toPandas()"
      ],
      "outputs": [
        {
          "output_type": "execute_result",
          "execution_count": 12,
          "data": {
            "text/plain": [
              "     owner_id  count\n",
              "0   180907432     48\n",
              "1      317799     16\n",
              "2     4068532     13\n",
              "3     2547211      9\n",
              "4   484122052      8\n",
              "5     2070090      5\n",
              "6   281951154      5\n",
              "7     1077823      5\n",
              "8   268247082      5\n",
              "9     1533614      4\n",
              "10  217400123      4\n",
              "11  157728618      4\n",
              "12   44361144      4\n",
              "13  527580876      4\n",
              "14  168543860      4\n",
              "15   18467645      4\n",
              "16  172808182      4\n",
              "17    2031644      3\n",
              "18    1548876      3\n",
              "19    2923196      3"
            ],
            "text/html": [
              "<div>\n",
              "<style scoped>\n",
              "    .dataframe tbody tr th:only-of-type {\n",
              "        vertical-align: middle;\n",
              "    }\n",
              "\n",
              "    .dataframe tbody tr th {\n",
              "        vertical-align: top;\n",
              "    }\n",
              "\n",
              "    .dataframe thead th {\n",
              "        text-align: right;\n",
              "    }\n",
              "</style>\n",
              "<table border=\"1\" class=\"dataframe\">\n",
              "  <thead>\n",
              "    <tr style=\"text-align: right;\">\n",
              "      <th></th>\n",
              "      <th>owner_id</th>\n",
              "      <th>count</th>\n",
              "    </tr>\n",
              "  </thead>\n",
              "  <tbody>\n",
              "    <tr>\n",
              "      <th>0</th>\n",
              "      <td>180907432</td>\n",
              "      <td>48</td>\n",
              "    </tr>\n",
              "    <tr>\n",
              "      <th>1</th>\n",
              "      <td>317799</td>\n",
              "      <td>16</td>\n",
              "    </tr>\n",
              "    <tr>\n",
              "      <th>2</th>\n",
              "      <td>4068532</td>\n",
              "      <td>13</td>\n",
              "    </tr>\n",
              "    <tr>\n",
              "      <th>3</th>\n",
              "      <td>2547211</td>\n",
              "      <td>9</td>\n",
              "    </tr>\n",
              "    <tr>\n",
              "      <th>4</th>\n",
              "      <td>484122052</td>\n",
              "      <td>8</td>\n",
              "    </tr>\n",
              "    <tr>\n",
              "      <th>5</th>\n",
              "      <td>2070090</td>\n",
              "      <td>5</td>\n",
              "    </tr>\n",
              "    <tr>\n",
              "      <th>6</th>\n",
              "      <td>281951154</td>\n",
              "      <td>5</td>\n",
              "    </tr>\n",
              "    <tr>\n",
              "      <th>7</th>\n",
              "      <td>1077823</td>\n",
              "      <td>5</td>\n",
              "    </tr>\n",
              "    <tr>\n",
              "      <th>8</th>\n",
              "      <td>268247082</td>\n",
              "      <td>5</td>\n",
              "    </tr>\n",
              "    <tr>\n",
              "      <th>9</th>\n",
              "      <td>1533614</td>\n",
              "      <td>4</td>\n",
              "    </tr>\n",
              "    <tr>\n",
              "      <th>10</th>\n",
              "      <td>217400123</td>\n",
              "      <td>4</td>\n",
              "    </tr>\n",
              "    <tr>\n",
              "      <th>11</th>\n",
              "      <td>157728618</td>\n",
              "      <td>4</td>\n",
              "    </tr>\n",
              "    <tr>\n",
              "      <th>12</th>\n",
              "      <td>44361144</td>\n",
              "      <td>4</td>\n",
              "    </tr>\n",
              "    <tr>\n",
              "      <th>13</th>\n",
              "      <td>527580876</td>\n",
              "      <td>4</td>\n",
              "    </tr>\n",
              "    <tr>\n",
              "      <th>14</th>\n",
              "      <td>168543860</td>\n",
              "      <td>4</td>\n",
              "    </tr>\n",
              "    <tr>\n",
              "      <th>15</th>\n",
              "      <td>18467645</td>\n",
              "      <td>4</td>\n",
              "    </tr>\n",
              "    <tr>\n",
              "      <th>16</th>\n",
              "      <td>172808182</td>\n",
              "      <td>4</td>\n",
              "    </tr>\n",
              "    <tr>\n",
              "      <th>17</th>\n",
              "      <td>2031644</td>\n",
              "      <td>3</td>\n",
              "    </tr>\n",
              "    <tr>\n",
              "      <th>18</th>\n",
              "      <td>1548876</td>\n",
              "      <td>3</td>\n",
              "    </tr>\n",
              "    <tr>\n",
              "      <th>19</th>\n",
              "      <td>2923196</td>\n",
              "      <td>3</td>\n",
              "    </tr>\n",
              "  </tbody>\n",
              "</table>\n",
              "</div>"
            ]
          },
          "metadata": {}
        }
      ],
      "execution_count": 12,
      "metadata": {
        "collapsed": true,
        "jupyter": {
          "source_hidden": false,
          "outputs_hidden": false
        },
        "nteract": {
          "transient": {
            "deleting": false
          }
        },
        "execution": {
          "iopub.status.busy": "2020-06-18T21:21:12.436Z",
          "iopub.execute_input": "2020-06-18T21:21:12.441Z",
          "iopub.status.idle": "2020-06-18T21:21:28.440Z",
          "shell.execute_reply": "2020-06-18T21:21:28.458Z"
        }
      }
    }
  ],
  "metadata": {
    "kernel_info": {
      "name": "python3"
    },
    "language_info": {
      "name": "python",
      "version": "3.7.6",
      "mimetype": "text/x-python",
      "codemirror_mode": {
        "name": "ipython",
        "version": 3
      },
      "pygments_lexer": "ipython3",
      "nbconvert_exporter": "python",
      "file_extension": ".py"
    },
    "kernelspec": {
      "argv": [
        "/Users/olegtaratuhin/miniconda3/bin/python",
        "-m",
        "ipykernel_launcher",
        "-f",
        "{connection_file}"
      ],
      "display_name": "Python 3",
      "language": "python",
      "name": "python3"
    },
    "nteract": {
      "version": "0.23.3"
    }
  },
  "nbformat": 4,
  "nbformat_minor": 0
}