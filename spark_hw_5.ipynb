{
  "cells": [
    {
      "cell_type": "markdown",
      "source": [
        "# Spark assignment"
      ],
      "metadata": {
        "nteract": {
          "transient": {
            "deleting": false
          }
        }
      }
    },
    {
      "cell_type": "markdown",
      "source": [
        "Taratukhin Oleg, C41323"
      ],
      "metadata": {
        "nteract": {
          "transient": {
            "deleting": false
          }
        }
      }
    },
    {
      "cell_type": "markdown",
      "source": [
        "Initial env setup:"
      ],
      "metadata": {
        "nteract": {
          "transient": {
            "deleting": false
          }
        }
      }
    },
    {
      "cell_type": "code",
      "source": [
        "import pyspark\n",
        "from pyspark import SparkContext\n",
        "from pyspark.sql import SparkSession\n",
        "from pyspark.sql.functions import *\n",
        "from pyspark.sql.types import *\n",
        "from pathlib import Path\n",
        "import emoji\n",
        "\n",
        "spark = SparkSession.builder \\\n",
        "    .appName(\"itmo spark assignment\") \\\n",
        "    .master(\"local[*]\") \\\n",
        "    .getOrCreate()\n",
        "\n",
        "spark"
      ],
      "outputs": [
        {
          "output_type": "execute_result",
          "execution_count": 20,
          "data": {
            "text/plain": [
              "<pyspark.sql.session.SparkSession at 0x10a2acf90>"
            ],
            "text/html": [
              "\n",
              "            <div>\n",
              "                <p><b>SparkSession - in-memory</b></p>\n",
              "                \n",
              "        <div>\n",
              "            <p><b>SparkContext</b></p>\n",
              "\n",
              "            <p><a href=\"http://192.168.31.183:4040\">Spark UI</a></p>\n",
              "\n",
              "            <dl>\n",
              "              <dt>Version</dt>\n",
              "                <dd><code>v2.4.6</code></dd>\n",
              "              <dt>Master</dt>\n",
              "                <dd><code>local[*]</code></dd>\n",
              "              <dt>AppName</dt>\n",
              "                <dd><code>itmo spark assignment</code></dd>\n",
              "            </dl>\n",
              "        </div>\n",
              "        \n",
              "            </div>\n",
              "        "
            ]
          },
          "metadata": {}
        }
      ],
      "execution_count": 20,
      "metadata": {
        "collapsed": true,
        "jupyter": {
          "source_hidden": false,
          "outputs_hidden": false
        },
        "nteract": {
          "transient": {
            "deleting": false
          }
        },
        "execution": {
          "iopub.status.busy": "2020-06-19T21:59:42.879Z",
          "iopub.execute_input": "2020-06-19T21:59:42.883Z",
          "iopub.status.idle": "2020-06-19T21:59:42.892Z",
          "shell.execute_reply": "2020-06-19T21:59:42.901Z"
        }
      }
    },
    {
      "cell_type": "code",
      "source": [
        "!cd data && ls\n",
        "!rm -rf results/task5/\n",
        "\n",
        "PATH_TO_DATA = Path(\"data/\")\n",
        "PATH_TO_RESULTS = Path(\"results/task5/\")"
      ],
      "outputs": [
        {
          "output_type": "stream",
          "name": "stdout",
          "text": [
            "\u001b[1m\u001b[36mfollowers.parquet\u001b[m\u001b[m              \u001b[1m\u001b[36mposts_api.json\u001b[m\u001b[m\r\n",
            "\u001b[1m\u001b[36mfollowers_posts_api_final.json\u001b[m\u001b[m \u001b[1m\u001b[36mposts_likes.parquet\u001b[m\u001b[m\r\n",
            "\u001b[1m\u001b[36mfollowers_posts_likes.parquet\u001b[m\u001b[m\r\n"
          ]
        }
      ],
      "execution_count": 35,
      "metadata": {
        "collapsed": true,
        "jupyter": {
          "source_hidden": false,
          "outputs_hidden": false
        },
        "nteract": {
          "transient": {
            "deleting": false
          }
        },
        "execution": {
          "iopub.status.busy": "2020-06-19T22:20:30.177Z",
          "iopub.execute_input": "2020-06-19T22:20:30.181Z",
          "iopub.status.idle": "2020-06-19T22:20:30.437Z",
          "shell.execute_reply": "2020-06-19T22:20:30.440Z"
        }
      }
    },
    {
      "cell_type": "markdown",
      "source": [
        "Utilities:"
      ],
      "metadata": {
        "nteract": {
          "transient": {
            "deleting": false
          }
        }
      }
    },
    {
      "cell_type": "code",
      "source": [
        "def save_as_json(df: pyspark.sql.dataframe.DataFrame, name: str):\n",
        "    df.write \\\n",
        "        .format(\"json\") \\\n",
        "        .save(str(PATH_TO_RESULTS / name))"
      ],
      "outputs": [],
      "execution_count": 22,
      "metadata": {
        "collapsed": true,
        "jupyter": {
          "source_hidden": false,
          "outputs_hidden": false
        },
        "nteract": {
          "transient": {
            "deleting": false
          }
        },
        "execution": {
          "iopub.status.busy": "2020-06-19T21:59:52.773Z",
          "iopub.execute_input": "2020-06-19T21:59:52.776Z",
          "iopub.status.idle": "2020-06-19T21:59:52.781Z",
          "shell.execute_reply": "2020-06-19T21:59:52.786Z"
        }
      }
    },
    {
      "cell_type": "code",
      "source": [
        "followers_posts_likes = spark \\\n",
        "    .read \\\n",
        "    .parquet(str(PATH_TO_DATA / \"followers_posts_likes.parquet\"))\n",
        "\n",
        "followers_posts_likes.limit(10).toPandas()"
      ],
      "outputs": [
        {
          "output_type": "execute_result",
          "execution_count": 30,
          "data": {
            "text/plain": [
              "  itemType  ownerId  itemId    likerId\n",
              "0     post     1567    3324       2767\n",
              "1     post     1567    3324     254280\n",
              "2     post     1567    3324     553430\n",
              "3     post     1567    3324     905379\n",
              "4     post     1567    3324    2411502\n",
              "5     post     1567    3324    5274303\n",
              "6     post     1567    3324   50038414\n",
              "7     post     1567    3324   84207602\n",
              "8     post     1567    3324  145422426\n",
              "9     post     1567    3331    4601081"
            ],
            "text/html": [
              "<div>\n",
              "<style scoped>\n",
              "    .dataframe tbody tr th:only-of-type {\n",
              "        vertical-align: middle;\n",
              "    }\n",
              "\n",
              "    .dataframe tbody tr th {\n",
              "        vertical-align: top;\n",
              "    }\n",
              "\n",
              "    .dataframe thead th {\n",
              "        text-align: right;\n",
              "    }\n",
              "</style>\n",
              "<table border=\"1\" class=\"dataframe\">\n",
              "  <thead>\n",
              "    <tr style=\"text-align: right;\">\n",
              "      <th></th>\n",
              "      <th>itemType</th>\n",
              "      <th>ownerId</th>\n",
              "      <th>itemId</th>\n",
              "      <th>likerId</th>\n",
              "    </tr>\n",
              "  </thead>\n",
              "  <tbody>\n",
              "    <tr>\n",
              "      <th>0</th>\n",
              "      <td>post</td>\n",
              "      <td>1567</td>\n",
              "      <td>3324</td>\n",
              "      <td>2767</td>\n",
              "    </tr>\n",
              "    <tr>\n",
              "      <th>1</th>\n",
              "      <td>post</td>\n",
              "      <td>1567</td>\n",
              "      <td>3324</td>\n",
              "      <td>254280</td>\n",
              "    </tr>\n",
              "    <tr>\n",
              "      <th>2</th>\n",
              "      <td>post</td>\n",
              "      <td>1567</td>\n",
              "      <td>3324</td>\n",
              "      <td>553430</td>\n",
              "    </tr>\n",
              "    <tr>\n",
              "      <th>3</th>\n",
              "      <td>post</td>\n",
              "      <td>1567</td>\n",
              "      <td>3324</td>\n",
              "      <td>905379</td>\n",
              "    </tr>\n",
              "    <tr>\n",
              "      <th>4</th>\n",
              "      <td>post</td>\n",
              "      <td>1567</td>\n",
              "      <td>3324</td>\n",
              "      <td>2411502</td>\n",
              "    </tr>\n",
              "    <tr>\n",
              "      <th>5</th>\n",
              "      <td>post</td>\n",
              "      <td>1567</td>\n",
              "      <td>3324</td>\n",
              "      <td>5274303</td>\n",
              "    </tr>\n",
              "    <tr>\n",
              "      <th>6</th>\n",
              "      <td>post</td>\n",
              "      <td>1567</td>\n",
              "      <td>3324</td>\n",
              "      <td>50038414</td>\n",
              "    </tr>\n",
              "    <tr>\n",
              "      <th>7</th>\n",
              "      <td>post</td>\n",
              "      <td>1567</td>\n",
              "      <td>3324</td>\n",
              "      <td>84207602</td>\n",
              "    </tr>\n",
              "    <tr>\n",
              "      <th>8</th>\n",
              "      <td>post</td>\n",
              "      <td>1567</td>\n",
              "      <td>3324</td>\n",
              "      <td>145422426</td>\n",
              "    </tr>\n",
              "    <tr>\n",
              "      <th>9</th>\n",
              "      <td>post</td>\n",
              "      <td>1567</td>\n",
              "      <td>3331</td>\n",
              "      <td>4601081</td>\n",
              "    </tr>\n",
              "  </tbody>\n",
              "</table>\n",
              "</div>"
            ]
          },
          "metadata": {}
        }
      ],
      "execution_count": 30,
      "metadata": {
        "collapsed": true,
        "jupyter": {
          "source_hidden": false,
          "outputs_hidden": false
        },
        "nteract": {
          "transient": {
            "deleting": false
          }
        },
        "execution": {
          "iopub.status.busy": "2020-06-19T22:07:03.160Z",
          "iopub.execute_input": "2020-06-19T22:07:03.163Z",
          "iopub.status.idle": "2020-06-19T22:07:03.900Z",
          "shell.execute_reply": "2020-06-19T22:07:03.909Z"
        }
      }
    },
    {
      "cell_type": "markdown",
      "source": [
        "## Task 5"
      ],
      "metadata": {
        "nteract": {
          "transient": {
            "deleting": false
          }
        }
      }
    },
    {
      "cell_type": "markdown",
      "source": [
        " Find friends. The idea is, if users like each other posts, then they are friends."
      ],
      "metadata": {
        "nteract": {
          "transient": {
            "deleting": false
          }
        }
      }
    },
    {
      "cell_type": "code",
      "source": [
        "friends = followers_posts_likes.alias(\"df1\") \\\n",
        "    .join(followers_posts_likes.alias(\"df2\"),\n",
        "          ((col(\"df1.ownerId\") == col(\"df2.likerId\")) &\n",
        "           (col(\"df1.ownerId\") == col(\"df2.likerId\"))), 'leftsemi') \\\n",
        "    .distinct() \\\n",
        "    .orderBy(\"df1.ownerId\") \\\n",
        "    .select(\"ownerId\", \"likerId\")\n",
        "\n",
        "save_as_json(friends, \"task5_friends.json\")\n",
        "\n",
        "friends.limit(10).toPandas()"
      ],
      "outputs": [
        {
          "output_type": "execute_result",
          "execution_count": 36,
          "data": {
            "text/plain": [
              "   ownerId   likerId\n",
              "0      637     87335\n",
              "1      637  23304482\n",
              "2      637   3888416\n",
              "3      637  41311426\n",
              "4      637  50531713\n",
              "5      637    422527\n",
              "6      637    357278\n",
              "7      637   1998076\n",
              "8      637   1401589\n",
              "9      637    425615"
            ],
            "text/html": [
              "<div>\n",
              "<style scoped>\n",
              "    .dataframe tbody tr th:only-of-type {\n",
              "        vertical-align: middle;\n",
              "    }\n",
              "\n",
              "    .dataframe tbody tr th {\n",
              "        vertical-align: top;\n",
              "    }\n",
              "\n",
              "    .dataframe thead th {\n",
              "        text-align: right;\n",
              "    }\n",
              "</style>\n",
              "<table border=\"1\" class=\"dataframe\">\n",
              "  <thead>\n",
              "    <tr style=\"text-align: right;\">\n",
              "      <th></th>\n",
              "      <th>ownerId</th>\n",
              "      <th>likerId</th>\n",
              "    </tr>\n",
              "  </thead>\n",
              "  <tbody>\n",
              "    <tr>\n",
              "      <th>0</th>\n",
              "      <td>637</td>\n",
              "      <td>87335</td>\n",
              "    </tr>\n",
              "    <tr>\n",
              "      <th>1</th>\n",
              "      <td>637</td>\n",
              "      <td>23304482</td>\n",
              "    </tr>\n",
              "    <tr>\n",
              "      <th>2</th>\n",
              "      <td>637</td>\n",
              "      <td>3888416</td>\n",
              "    </tr>\n",
              "    <tr>\n",
              "      <th>3</th>\n",
              "      <td>637</td>\n",
              "      <td>41311426</td>\n",
              "    </tr>\n",
              "    <tr>\n",
              "      <th>4</th>\n",
              "      <td>637</td>\n",
              "      <td>50531713</td>\n",
              "    </tr>\n",
              "    <tr>\n",
              "      <th>5</th>\n",
              "      <td>637</td>\n",
              "      <td>422527</td>\n",
              "    </tr>\n",
              "    <tr>\n",
              "      <th>6</th>\n",
              "      <td>637</td>\n",
              "      <td>357278</td>\n",
              "    </tr>\n",
              "    <tr>\n",
              "      <th>7</th>\n",
              "      <td>637</td>\n",
              "      <td>1998076</td>\n",
              "    </tr>\n",
              "    <tr>\n",
              "      <th>8</th>\n",
              "      <td>637</td>\n",
              "      <td>1401589</td>\n",
              "    </tr>\n",
              "    <tr>\n",
              "      <th>9</th>\n",
              "      <td>637</td>\n",
              "      <td>425615</td>\n",
              "    </tr>\n",
              "  </tbody>\n",
              "</table>\n",
              "</div>"
            ]
          },
          "metadata": {}
        }
      ],
      "execution_count": 36,
      "metadata": {
        "collapsed": true,
        "jupyter": {
          "source_hidden": false,
          "outputs_hidden": false
        },
        "nteract": {
          "transient": {
            "deleting": false
          }
        },
        "execution": {
          "iopub.status.busy": "2020-06-19T22:20:34.243Z",
          "iopub.execute_input": "2020-06-19T22:20:34.247Z",
          "iopub.status.idle": "2020-06-19T22:20:48.510Z",
          "shell.execute_reply": "2020-06-19T22:20:48.519Z"
        }
      }
    }
  ],
  "metadata": {
    "kernel_info": {
      "name": "python3"
    },
    "language_info": {
      "name": "python",
      "version": "3.7.6",
      "mimetype": "text/x-python",
      "codemirror_mode": {
        "name": "ipython",
        "version": 3
      },
      "pygments_lexer": "ipython3",
      "nbconvert_exporter": "python",
      "file_extension": ".py"
    },
    "kernelspec": {
      "argv": [
        "/Users/olegtaratuhin/miniconda3/bin/python",
        "-m",
        "ipykernel_launcher",
        "-f",
        "{connection_file}"
      ],
      "display_name": "Python 3",
      "language": "python",
      "name": "python3"
    },
    "nteract": {
      "version": "0.23.3"
    }
  },
  "nbformat": 4,
  "nbformat_minor": 0
}