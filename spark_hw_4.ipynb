{
  "cells": [
    {
      "cell_type": "markdown",
      "source": [
        "# Spark assignment"
      ],
      "metadata": {
        "nteract": {
          "transient": {
            "deleting": false
          }
        }
      }
    },
    {
      "cell_type": "markdown",
      "source": [
        "Taratukhin Oleg, C41323"
      ],
      "metadata": {
        "nteract": {
          "transient": {
            "deleting": false
          }
        }
      }
    },
    {
      "cell_type": "markdown",
      "source": [
        "Initial env setup:"
      ],
      "metadata": {
        "nteract": {
          "transient": {
            "deleting": false
          }
        }
      }
    },
    {
      "cell_type": "code",
      "source": [
        "import pyspark\n",
        "from pyspark import SparkContext\n",
        "from pyspark.sql import SparkSession\n",
        "from pyspark.sql.functions import *\n",
        "from pyspark.sql.types import *\n",
        "from pathlib import Path\n",
        "import emoji\n",
        "\n",
        "spark = SparkSession.builder \\\n",
        "    .appName(\"itmo spark assignment\") \\\n",
        "    .master(\"local[*]\") \\\n",
        "    .getOrCreate()\n",
        "\n",
        "spark"
      ],
      "outputs": [
        {
          "output_type": "execute_result",
          "execution_count": 20,
          "data": {
            "text/plain": [
              "<pyspark.sql.session.SparkSession at 0x10a2acf90>"
            ],
            "text/html": [
              "\n",
              "            <div>\n",
              "                <p><b>SparkSession - in-memory</b></p>\n",
              "                \n",
              "        <div>\n",
              "            <p><b>SparkContext</b></p>\n",
              "\n",
              "            <p><a href=\"http://192.168.31.183:4040\">Spark UI</a></p>\n",
              "\n",
              "            <dl>\n",
              "              <dt>Version</dt>\n",
              "                <dd><code>v2.4.6</code></dd>\n",
              "              <dt>Master</dt>\n",
              "                <dd><code>local[*]</code></dd>\n",
              "              <dt>AppName</dt>\n",
              "                <dd><code>itmo spark assignment</code></dd>\n",
              "            </dl>\n",
              "        </div>\n",
              "        \n",
              "            </div>\n",
              "        "
            ]
          },
          "metadata": {}
        }
      ],
      "execution_count": 20,
      "metadata": {
        "collapsed": true,
        "jupyter": {
          "source_hidden": false,
          "outputs_hidden": false
        },
        "nteract": {
          "transient": {
            "deleting": false
          }
        },
        "execution": {
          "iopub.status.busy": "2020-06-19T21:59:42.879Z",
          "iopub.execute_input": "2020-06-19T21:59:42.883Z",
          "iopub.status.idle": "2020-06-19T21:59:42.892Z",
          "shell.execute_reply": "2020-06-19T21:59:42.901Z"
        }
      }
    },
    {
      "cell_type": "code",
      "source": [
        "!cd data && ls\n",
        "!rm -rf results/task4/\n",
        "\n",
        "PATH_TO_DATA = Path(\"data/\")\n",
        "PATH_TO_RESULTS = Path(\"results/task4/\")"
      ],
      "outputs": [
        {
          "output_type": "stream",
          "name": "stdout",
          "text": [
            "\u001b[1m\u001b[36mfollowers.parquet\u001b[m\u001b[m              \u001b[1m\u001b[36mposts_api.json\u001b[m\u001b[m\r\n",
            "\u001b[1m\u001b[36mfollowers_posts_api_final.json\u001b[m\u001b[m \u001b[1m\u001b[36mposts_likes.parquet\u001b[m\u001b[m\r\n",
            "\u001b[1m\u001b[36mfollowers_posts_likes.parquet\u001b[m\u001b[m\r\n"
          ]
        }
      ],
      "execution_count": 28,
      "metadata": {
        "collapsed": true,
        "jupyter": {
          "source_hidden": false,
          "outputs_hidden": false
        },
        "nteract": {
          "transient": {
            "deleting": false
          }
        },
        "execution": {
          "iopub.status.busy": "2020-06-19T22:04:43.419Z",
          "iopub.execute_input": "2020-06-19T22:04:43.422Z",
          "iopub.status.idle": "2020-06-19T22:04:43.673Z",
          "shell.execute_reply": "2020-06-19T22:04:43.678Z"
        }
      }
    },
    {
      "cell_type": "markdown",
      "source": [
        "Utilities:"
      ],
      "metadata": {
        "nteract": {
          "transient": {
            "deleting": false
          }
        }
      }
    },
    {
      "cell_type": "code",
      "source": [
        "def save_as_json(df: pyspark.sql.dataframe.DataFrame, name: str):\n",
        "    df.write \\\n",
        "        .format(\"json\") \\\n",
        "        .save(str(PATH_TO_RESULTS / name))"
      ],
      "outputs": [],
      "execution_count": 22,
      "metadata": {
        "collapsed": true,
        "jupyter": {
          "source_hidden": false,
          "outputs_hidden": false
        },
        "nteract": {
          "transient": {
            "deleting": false
          }
        },
        "execution": {
          "iopub.status.busy": "2020-06-19T21:59:52.773Z",
          "iopub.execute_input": "2020-06-19T21:59:52.776Z",
          "iopub.status.idle": "2020-06-19T21:59:52.781Z",
          "shell.execute_reply": "2020-06-19T21:59:52.786Z"
        }
      }
    },
    {
      "cell_type": "code",
      "source": [
        "posts_api = spark \\\n",
        "    .read \\\n",
        "    .json(str(PATH_TO_DATA / \"posts_api.json\"))\n",
        "\n",
        "posts_api.limit(10).toPandas()"
      ],
      "outputs": [
        {
          "output_type": "execute_result",
          "execution_count": 23,
          "data": {
            "text/plain": [
              "                                         attachments       comments  \\\n",
              "0                                               None   (1, 0, True)   \n",
              "1  [(None, None, None, None, None, (791d86f8b302d...   (1, 0, True)   \n",
              "2                                               None   (1, 0, True)   \n",
              "3  [(None, None, None, None, None, (912f07ffb75c8...   (1, 0, True)   \n",
              "4  [(None, None, None, None, None, (48de0a7227ce0...   (1, 2, True)   \n",
              "5  [(None, None, None, None, None, (01786517929f7...   (1, 3, True)   \n",
              "6  [(None, None, None, None, None, (108e8d387cd05...  (1, 27, True)   \n",
              "7  [(None, None, None, None, None, (c243da0b8a371...   (1, 0, True)   \n",
              "8  [(None, None, None, None, None, (f5a6642309dea...  (1, 23, True)   \n",
              "9  [(None, None, None, None, None, (b9c7483cdcc2b...   (1, 0, True)   \n",
              "\n",
              "                                        copy_history copyright        date  \\\n",
              "0  [([Row(album=None, audio=None, doc=None, link=...      None  1418838050   \n",
              "1                                               None      None  1418812223   \n",
              "2  [([Row(album=None, audio=None, doc=None, link=...      None  1418932825   \n",
              "3                                               None      None  1418929134   \n",
              "4                                               None      None  1418922045   \n",
              "5                                               None      None  1418906160   \n",
              "6                                               None      None  1418893664   \n",
              "7                                               None      None  1418889630   \n",
              "8                                               None      None  1418997628   \n",
              "9                                               None      None  1418993264   \n",
              "\n",
              "   from_id   geo     id        key          likes  marked_as_ads  owner_id  \\\n",
              "0      -94  None  17274  -94_17274  (1, 1, 12, 0)              0       -94   \n",
              "1      -94  None  17273  -94_17273   (1, 1, 7, 0)              0       -94   \n",
              "2      -94  None  17313  -94_17313  (1, 1, 14, 0)              0       -94   \n",
              "3      -94  None  17301  -94_17301  (1, 1, 30, 0)              0       -94   \n",
              "4      -94  None  17295  -94_17295  (1, 1, 10, 0)              0       -94   \n",
              "5      -94  None  17293  -94_17293  (1, 1, 51, 0)              0       -94   \n",
              "6      -94  None  17277  -94_17277  (1, 1, 16, 0)              0       -94   \n",
              "7      -94  None  17276  -94_17276   (1, 1, 4, 0)              0       -94   \n",
              "8      -94  None  17326  -94_17326  (1, 1, 68, 0)              0       -94   \n",
              "9      -94  None  17323  -94_17323   (1, 1, 1, 0)              0       -94   \n",
              "\n",
              "           post_source post_type  reposts signer_id  \\\n",
              "0  (None, iphone, api)      post   (5, 0)      None   \n",
              "1     (None, None, vk)      post   (3, 0)      None   \n",
              "2     (None, None, vk)      post   (4, 0)      None   \n",
              "3     (None, None, vk)      post  (17, 0)      None   \n",
              "4     (None, None, vk)      post   (0, 0)      None   \n",
              "5     (None, None, vk)      post   (9, 0)      None   \n",
              "6     (None, None, vk)      post   (0, 0)      None   \n",
              "7     (None, None, vk)      post   (0, 0)      None   \n",
              "8     (None, None, vk)      post  (34, 0)      None   \n",
              "9     (None, None, vk)      post   (1, 0)      None   \n",
              "\n",
              "                                                text unavailable views  \n",
              "0                                                           None  None  \n",
              "1  [Технологические брокеры объединят науку и биз...        None  None  \n",
              "2                                                           None  None  \n",
              "3  Дорогие друзья, мы открываем новую рубрику, в ...        None  None  \n",
              "4  [Первый выпуск Молодежного коворкинг-центра Ун...        None  None  \n",
              "5  [Александр Ишевский о новых продуктах и востре...        None  None  \n",
              "6  Для желающих увидеть большую пресс-конференцию...        None  None  \n",
              "7  [Профессоры Пауль Урбах и Юрки Сааринен расска...        None  None  \n",
              "8  Подготовка к праздникам уже в самом разгаре, а...        None  None  \n",
              "9  [Татьяна Богомазова: какой должна быть информа...        None  None  "
            ],
            "text/html": [
              "<div>\n",
              "<style scoped>\n",
              "    .dataframe tbody tr th:only-of-type {\n",
              "        vertical-align: middle;\n",
              "    }\n",
              "\n",
              "    .dataframe tbody tr th {\n",
              "        vertical-align: top;\n",
              "    }\n",
              "\n",
              "    .dataframe thead th {\n",
              "        text-align: right;\n",
              "    }\n",
              "</style>\n",
              "<table border=\"1\" class=\"dataframe\">\n",
              "  <thead>\n",
              "    <tr style=\"text-align: right;\">\n",
              "      <th></th>\n",
              "      <th>attachments</th>\n",
              "      <th>comments</th>\n",
              "      <th>copy_history</th>\n",
              "      <th>copyright</th>\n",
              "      <th>date</th>\n",
              "      <th>from_id</th>\n",
              "      <th>geo</th>\n",
              "      <th>id</th>\n",
              "      <th>key</th>\n",
              "      <th>likes</th>\n",
              "      <th>marked_as_ads</th>\n",
              "      <th>owner_id</th>\n",
              "      <th>post_source</th>\n",
              "      <th>post_type</th>\n",
              "      <th>reposts</th>\n",
              "      <th>signer_id</th>\n",
              "      <th>text</th>\n",
              "      <th>unavailable</th>\n",
              "      <th>views</th>\n",
              "    </tr>\n",
              "  </thead>\n",
              "  <tbody>\n",
              "    <tr>\n",
              "      <th>0</th>\n",
              "      <td>None</td>\n",
              "      <td>(1, 0, True)</td>\n",
              "      <td>[([Row(album=None, audio=None, doc=None, link=...</td>\n",
              "      <td>None</td>\n",
              "      <td>1418838050</td>\n",
              "      <td>-94</td>\n",
              "      <td>None</td>\n",
              "      <td>17274</td>\n",
              "      <td>-94_17274</td>\n",
              "      <td>(1, 1, 12, 0)</td>\n",
              "      <td>0</td>\n",
              "      <td>-94</td>\n",
              "      <td>(None, iphone, api)</td>\n",
              "      <td>post</td>\n",
              "      <td>(5, 0)</td>\n",
              "      <td>None</td>\n",
              "      <td></td>\n",
              "      <td>None</td>\n",
              "      <td>None</td>\n",
              "    </tr>\n",
              "    <tr>\n",
              "      <th>1</th>\n",
              "      <td>[(None, None, None, None, None, (791d86f8b302d...</td>\n",
              "      <td>(1, 0, True)</td>\n",
              "      <td>None</td>\n",
              "      <td>None</td>\n",
              "      <td>1418812223</td>\n",
              "      <td>-94</td>\n",
              "      <td>None</td>\n",
              "      <td>17273</td>\n",
              "      <td>-94_17273</td>\n",
              "      <td>(1, 1, 7, 0)</td>\n",
              "      <td>0</td>\n",
              "      <td>-94</td>\n",
              "      <td>(None, None, vk)</td>\n",
              "      <td>post</td>\n",
              "      <td>(3, 0)</td>\n",
              "      <td>None</td>\n",
              "      <td>[Технологические брокеры объединят науку и биз...</td>\n",
              "      <td>None</td>\n",
              "      <td>None</td>\n",
              "    </tr>\n",
              "    <tr>\n",
              "      <th>2</th>\n",
              "      <td>None</td>\n",
              "      <td>(1, 0, True)</td>\n",
              "      <td>[([Row(album=None, audio=None, doc=None, link=...</td>\n",
              "      <td>None</td>\n",
              "      <td>1418932825</td>\n",
              "      <td>-94</td>\n",
              "      <td>None</td>\n",
              "      <td>17313</td>\n",
              "      <td>-94_17313</td>\n",
              "      <td>(1, 1, 14, 0)</td>\n",
              "      <td>0</td>\n",
              "      <td>-94</td>\n",
              "      <td>(None, None, vk)</td>\n",
              "      <td>post</td>\n",
              "      <td>(4, 0)</td>\n",
              "      <td>None</td>\n",
              "      <td></td>\n",
              "      <td>None</td>\n",
              "      <td>None</td>\n",
              "    </tr>\n",
              "    <tr>\n",
              "      <th>3</th>\n",
              "      <td>[(None, None, None, None, None, (912f07ffb75c8...</td>\n",
              "      <td>(1, 0, True)</td>\n",
              "      <td>None</td>\n",
              "      <td>None</td>\n",
              "      <td>1418929134</td>\n",
              "      <td>-94</td>\n",
              "      <td>None</td>\n",
              "      <td>17301</td>\n",
              "      <td>-94_17301</td>\n",
              "      <td>(1, 1, 30, 0)</td>\n",
              "      <td>0</td>\n",
              "      <td>-94</td>\n",
              "      <td>(None, None, vk)</td>\n",
              "      <td>post</td>\n",
              "      <td>(17, 0)</td>\n",
              "      <td>None</td>\n",
              "      <td>Дорогие друзья, мы открываем новую рубрику, в ...</td>\n",
              "      <td>None</td>\n",
              "      <td>None</td>\n",
              "    </tr>\n",
              "    <tr>\n",
              "      <th>4</th>\n",
              "      <td>[(None, None, None, None, None, (48de0a7227ce0...</td>\n",
              "      <td>(1, 2, True)</td>\n",
              "      <td>None</td>\n",
              "      <td>None</td>\n",
              "      <td>1418922045</td>\n",
              "      <td>-94</td>\n",
              "      <td>None</td>\n",
              "      <td>17295</td>\n",
              "      <td>-94_17295</td>\n",
              "      <td>(1, 1, 10, 0)</td>\n",
              "      <td>0</td>\n",
              "      <td>-94</td>\n",
              "      <td>(None, None, vk)</td>\n",
              "      <td>post</td>\n",
              "      <td>(0, 0)</td>\n",
              "      <td>None</td>\n",
              "      <td>[Первый выпуск Молодежного коворкинг-центра Ун...</td>\n",
              "      <td>None</td>\n",
              "      <td>None</td>\n",
              "    </tr>\n",
              "    <tr>\n",
              "      <th>5</th>\n",
              "      <td>[(None, None, None, None, None, (01786517929f7...</td>\n",
              "      <td>(1, 3, True)</td>\n",
              "      <td>None</td>\n",
              "      <td>None</td>\n",
              "      <td>1418906160</td>\n",
              "      <td>-94</td>\n",
              "      <td>None</td>\n",
              "      <td>17293</td>\n",
              "      <td>-94_17293</td>\n",
              "      <td>(1, 1, 51, 0)</td>\n",
              "      <td>0</td>\n",
              "      <td>-94</td>\n",
              "      <td>(None, None, vk)</td>\n",
              "      <td>post</td>\n",
              "      <td>(9, 0)</td>\n",
              "      <td>None</td>\n",
              "      <td>[Александр Ишевский о новых продуктах и востре...</td>\n",
              "      <td>None</td>\n",
              "      <td>None</td>\n",
              "    </tr>\n",
              "    <tr>\n",
              "      <th>6</th>\n",
              "      <td>[(None, None, None, None, None, (108e8d387cd05...</td>\n",
              "      <td>(1, 27, True)</td>\n",
              "      <td>None</td>\n",
              "      <td>None</td>\n",
              "      <td>1418893664</td>\n",
              "      <td>-94</td>\n",
              "      <td>None</td>\n",
              "      <td>17277</td>\n",
              "      <td>-94_17277</td>\n",
              "      <td>(1, 1, 16, 0)</td>\n",
              "      <td>0</td>\n",
              "      <td>-94</td>\n",
              "      <td>(None, None, vk)</td>\n",
              "      <td>post</td>\n",
              "      <td>(0, 0)</td>\n",
              "      <td>None</td>\n",
              "      <td>Для желающих увидеть большую пресс-конференцию...</td>\n",
              "      <td>None</td>\n",
              "      <td>None</td>\n",
              "    </tr>\n",
              "    <tr>\n",
              "      <th>7</th>\n",
              "      <td>[(None, None, None, None, None, (c243da0b8a371...</td>\n",
              "      <td>(1, 0, True)</td>\n",
              "      <td>None</td>\n",
              "      <td>None</td>\n",
              "      <td>1418889630</td>\n",
              "      <td>-94</td>\n",
              "      <td>None</td>\n",
              "      <td>17276</td>\n",
              "      <td>-94_17276</td>\n",
              "      <td>(1, 1, 4, 0)</td>\n",
              "      <td>0</td>\n",
              "      <td>-94</td>\n",
              "      <td>(None, None, vk)</td>\n",
              "      <td>post</td>\n",
              "      <td>(0, 0)</td>\n",
              "      <td>None</td>\n",
              "      <td>[Профессоры Пауль Урбах и Юрки Сааринен расска...</td>\n",
              "      <td>None</td>\n",
              "      <td>None</td>\n",
              "    </tr>\n",
              "    <tr>\n",
              "      <th>8</th>\n",
              "      <td>[(None, None, None, None, None, (f5a6642309dea...</td>\n",
              "      <td>(1, 23, True)</td>\n",
              "      <td>None</td>\n",
              "      <td>None</td>\n",
              "      <td>1418997628</td>\n",
              "      <td>-94</td>\n",
              "      <td>None</td>\n",
              "      <td>17326</td>\n",
              "      <td>-94_17326</td>\n",
              "      <td>(1, 1, 68, 0)</td>\n",
              "      <td>0</td>\n",
              "      <td>-94</td>\n",
              "      <td>(None, None, vk)</td>\n",
              "      <td>post</td>\n",
              "      <td>(34, 0)</td>\n",
              "      <td>None</td>\n",
              "      <td>Подготовка к праздникам уже в самом разгаре, а...</td>\n",
              "      <td>None</td>\n",
              "      <td>None</td>\n",
              "    </tr>\n",
              "    <tr>\n",
              "      <th>9</th>\n",
              "      <td>[(None, None, None, None, None, (b9c7483cdcc2b...</td>\n",
              "      <td>(1, 0, True)</td>\n",
              "      <td>None</td>\n",
              "      <td>None</td>\n",
              "      <td>1418993264</td>\n",
              "      <td>-94</td>\n",
              "      <td>None</td>\n",
              "      <td>17323</td>\n",
              "      <td>-94_17323</td>\n",
              "      <td>(1, 1, 1, 0)</td>\n",
              "      <td>0</td>\n",
              "      <td>-94</td>\n",
              "      <td>(None, None, vk)</td>\n",
              "      <td>post</td>\n",
              "      <td>(1, 0)</td>\n",
              "      <td>None</td>\n",
              "      <td>[Татьяна Богомазова: какой должна быть информа...</td>\n",
              "      <td>None</td>\n",
              "      <td>None</td>\n",
              "    </tr>\n",
              "  </tbody>\n",
              "</table>\n",
              "</div>"
            ]
          },
          "metadata": {}
        }
      ],
      "execution_count": 23,
      "metadata": {
        "collapsed": true,
        "jupyter": {
          "source_hidden": false,
          "outputs_hidden": false
        },
        "nteract": {
          "transient": {
            "deleting": false
          }
        },
        "execution": {
          "iopub.status.busy": "2020-06-19T21:59:56.872Z",
          "iopub.execute_input": "2020-06-19T21:59:56.875Z",
          "iopub.status.idle": "2020-06-19T21:59:57.131Z",
          "shell.execute_reply": "2020-06-19T21:59:57.147Z"
        }
      }
    },
    {
      "cell_type": "markdown",
      "source": [
        "## Task 4"
      ],
      "metadata": {
        "nteract": {
          "transient": {
            "deleting": false
          }
        }
      }
    },
    {
      "cell_type": "markdown",
      "source": [
        "Find emoticons in posts and post comments (negative, positive, neutral) (you can use external libraries or predefined emoticon lists) (use the spark udf and broadcast function for emoticons)"
      ],
      "metadata": {
        "nteract": {
          "transient": {
            "deleting": false
          }
        }
      }
    },
    {
      "cell_type": "code",
      "source": [
        "schema = ArrayType(StringType(), containsNull=False)\n",
        "only_emoji = lambda s: (c for c in s if c in emoji.UNICODE_EMOJI)\n",
        "\n",
        "emoji_in_posts = posts_api \\\n",
        "    .filter(col('text').isNotNull()) \\\n",
        "    .withColumn(\"emoji\", udf(lambda s: list(only_emoji(s)), schema)(\"text\")) \\\n",
        "    .select(\"id\", \"emoji\") \\\n",
        "    .filter(size(\"emoji\") > 0)\n",
        "\n",
        "save_as_json(emoji_in_posts, \"task4_emoji.json\")\n",
        "\n",
        "emoji_in_posts.limit(10).toPandas()"
      ],
      "outputs": [
        {
          "output_type": "execute_result",
          "execution_count": 29,
          "data": {
            "text/plain": [
              "      id   emoji\n",
              "0  17381  [🎄, 🎄]\n",
              "1  42270     [📸]\n",
              "2  42273     [⚡]\n",
              "3  42281     [🚀]\n",
              "4  42292     [🔮]\n",
              "5  42298     [🚀]\n",
              "6  42302     [🏕]\n",
              "7  42313     [💫]\n",
              "8  42315     [♥]\n",
              "9  42316     [🔥]"
            ],
            "text/html": [
              "<div>\n",
              "<style scoped>\n",
              "    .dataframe tbody tr th:only-of-type {\n",
              "        vertical-align: middle;\n",
              "    }\n",
              "\n",
              "    .dataframe tbody tr th {\n",
              "        vertical-align: top;\n",
              "    }\n",
              "\n",
              "    .dataframe thead th {\n",
              "        text-align: right;\n",
              "    }\n",
              "</style>\n",
              "<table border=\"1\" class=\"dataframe\">\n",
              "  <thead>\n",
              "    <tr style=\"text-align: right;\">\n",
              "      <th></th>\n",
              "      <th>id</th>\n",
              "      <th>emoji</th>\n",
              "    </tr>\n",
              "  </thead>\n",
              "  <tbody>\n",
              "    <tr>\n",
              "      <th>0</th>\n",
              "      <td>17381</td>\n",
              "      <td>[🎄, 🎄]</td>\n",
              "    </tr>\n",
              "    <tr>\n",
              "      <th>1</th>\n",
              "      <td>42270</td>\n",
              "      <td>[📸]</td>\n",
              "    </tr>\n",
              "    <tr>\n",
              "      <th>2</th>\n",
              "      <td>42273</td>\n",
              "      <td>[⚡]</td>\n",
              "    </tr>\n",
              "    <tr>\n",
              "      <th>3</th>\n",
              "      <td>42281</td>\n",
              "      <td>[🚀]</td>\n",
              "    </tr>\n",
              "    <tr>\n",
              "      <th>4</th>\n",
              "      <td>42292</td>\n",
              "      <td>[🔮]</td>\n",
              "    </tr>\n",
              "    <tr>\n",
              "      <th>5</th>\n",
              "      <td>42298</td>\n",
              "      <td>[🚀]</td>\n",
              "    </tr>\n",
              "    <tr>\n",
              "      <th>6</th>\n",
              "      <td>42302</td>\n",
              "      <td>[🏕]</td>\n",
              "    </tr>\n",
              "    <tr>\n",
              "      <th>7</th>\n",
              "      <td>42313</td>\n",
              "      <td>[💫]</td>\n",
              "    </tr>\n",
              "    <tr>\n",
              "      <th>8</th>\n",
              "      <td>42315</td>\n",
              "      <td>[♥]</td>\n",
              "    </tr>\n",
              "    <tr>\n",
              "      <th>9</th>\n",
              "      <td>42316</td>\n",
              "      <td>[🔥]</td>\n",
              "    </tr>\n",
              "  </tbody>\n",
              "</table>\n",
              "</div>"
            ]
          },
          "metadata": {}
        }
      ],
      "execution_count": 29,
      "metadata": {
        "collapsed": true,
        "jupyter": {
          "source_hidden": false,
          "outputs_hidden": false
        },
        "nteract": {
          "transient": {
            "deleting": false
          }
        },
        "execution": {
          "iopub.status.busy": "2020-06-19T22:04:46.370Z",
          "iopub.execute_input": "2020-06-19T22:04:46.374Z",
          "iopub.status.idle": "2020-06-19T22:04:47.292Z",
          "shell.execute_reply": "2020-06-19T22:04:47.302Z"
        }
      }
    }
  ],
  "metadata": {
    "kernel_info": {
      "name": "python3"
    },
    "language_info": {
      "name": "python",
      "version": "3.7.6",
      "mimetype": "text/x-python",
      "codemirror_mode": {
        "name": "ipython",
        "version": 3
      },
      "pygments_lexer": "ipython3",
      "nbconvert_exporter": "python",
      "file_extension": ".py"
    },
    "kernelspec": {
      "argv": [
        "/Users/olegtaratuhin/miniconda3/bin/python",
        "-m",
        "ipykernel_launcher",
        "-f",
        "{connection_file}"
      ],
      "display_name": "Python 3",
      "language": "python",
      "name": "python3"
    },
    "nteract": {
      "version": "0.23.3"
    }
  },
  "nbformat": 4,
  "nbformat_minor": 0
}