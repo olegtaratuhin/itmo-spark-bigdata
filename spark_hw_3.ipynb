{
  "cells": [
    {
      "cell_type": "markdown",
      "source": [
        "# Spark assignment"
      ],
      "metadata": {
        "nteract": {
          "transient": {
            "deleting": false
          }
        }
      }
    },
    {
      "cell_type": "markdown",
      "source": [
        "Taratukhin Oleg, C41323"
      ],
      "metadata": {
        "nteract": {
          "transient": {
            "deleting": false
          }
        }
      }
    },
    {
      "cell_type": "markdown",
      "source": [
        "Initial env setup:"
      ],
      "metadata": {
        "nteract": {
          "transient": {
            "deleting": false
          }
        }
      }
    },
    {
      "cell_type": "code",
      "source": [
        "import pyspark\n",
        "from pyspark import SparkContext\n",
        "from pyspark.sql import SparkSession\n",
        "from pyspark.sql.functions import *\n",
        "from pyspark.sql.types import *\n",
        "from pathlib import Path\n",
        "\n",
        "spark = SparkSession.builder \\\n",
        "    .appName(\"itmo spark assignment\") \\\n",
        "    .master(\"local[*]\") \\\n",
        "    .getOrCreate()\n",
        "\n",
        "spark"
      ],
      "outputs": [
        {
          "output_type": "execute_result",
          "execution_count": 8,
          "data": {
            "text/plain": [
              "<pyspark.sql.session.SparkSession at 0x10a2acf90>"
            ],
            "text/html": [
              "\n",
              "            <div>\n",
              "                <p><b>SparkSession - in-memory</b></p>\n",
              "                \n",
              "        <div>\n",
              "            <p><b>SparkContext</b></p>\n",
              "\n",
              "            <p><a href=\"http://192.168.31.183:4040\">Spark UI</a></p>\n",
              "\n",
              "            <dl>\n",
              "              <dt>Version</dt>\n",
              "                <dd><code>v2.4.6</code></dd>\n",
              "              <dt>Master</dt>\n",
              "                <dd><code>local[*]</code></dd>\n",
              "              <dt>AppName</dt>\n",
              "                <dd><code>itmo spark assignment</code></dd>\n",
              "            </dl>\n",
              "        </div>\n",
              "        \n",
              "            </div>\n",
              "        "
            ]
          },
          "metadata": {}
        }
      ],
      "execution_count": 8,
      "metadata": {
        "collapsed": true,
        "jupyter": {
          "source_hidden": false,
          "outputs_hidden": false
        },
        "nteract": {
          "transient": {
            "deleting": false
          }
        },
        "execution": {
          "iopub.status.busy": "2020-06-19T21:39:00.180Z",
          "iopub.execute_input": "2020-06-19T21:39:00.185Z",
          "iopub.status.idle": "2020-06-19T21:39:00.196Z",
          "shell.execute_reply": "2020-06-19T21:39:00.204Z"
        }
      }
    },
    {
      "cell_type": "code",
      "source": [
        "!cd data && ls\n",
        "!rm -rf results/task3/\n",
        "\n",
        "PATH_TO_DATA = Path(\"data/\")\n",
        "PATH_TO_RESULTS = Path(\"results/task3/\")"
      ],
      "outputs": [
        {
          "output_type": "stream",
          "name": "stdout",
          "text": [
            "\u001b[1m\u001b[36mfollowers.parquet\u001b[m\u001b[m              \u001b[1m\u001b[36mposts_api.json\u001b[m\u001b[m\r\n",
            "\u001b[1m\u001b[36mfollowers_posts_api_final.json\u001b[m\u001b[m \u001b[1m\u001b[36mposts_likes.parquet\u001b[m\u001b[m\r\n",
            "\u001b[1m\u001b[36mfollowers_posts_likes.parquet\u001b[m\u001b[m\r\n"
          ]
        }
      ],
      "execution_count": 3,
      "metadata": {
        "collapsed": true,
        "jupyter": {
          "source_hidden": false,
          "outputs_hidden": false
        },
        "nteract": {
          "transient": {
            "deleting": false
          }
        },
        "execution": {
          "iopub.status.busy": "2020-06-19T21:35:23.641Z",
          "iopub.execute_input": "2020-06-19T21:35:23.646Z",
          "iopub.status.idle": "2020-06-19T21:35:23.902Z",
          "shell.execute_reply": "2020-06-19T21:35:23.893Z"
        }
      }
    },
    {
      "cell_type": "markdown",
      "source": [
        "Utilities:"
      ],
      "metadata": {
        "nteract": {
          "transient": {
            "deleting": false
          }
        }
      }
    },
    {
      "cell_type": "code",
      "source": [
        "def save_as_json(df: pyspark.sql.dataframe.DataFrame, name: str):\n",
        "    df.write \\\n",
        "        .format(\"json\") \\\n",
        "        .save(str(PATH_TO_RESULTS / name))"
      ],
      "outputs": [],
      "execution_count": 9,
      "metadata": {
        "collapsed": true,
        "jupyter": {
          "source_hidden": false,
          "outputs_hidden": false
        },
        "nteract": {
          "transient": {
            "deleting": false
          }
        },
        "execution": {
          "iopub.status.busy": "2020-06-19T21:39:03.670Z",
          "iopub.execute_input": "2020-06-19T21:39:03.676Z",
          "iopub.status.idle": "2020-06-19T21:39:03.685Z",
          "shell.execute_reply": "2020-06-19T21:39:03.691Z"
        }
      }
    },
    {
      "cell_type": "code",
      "source": [
        "followers_posts = spark \\\n",
        "    .read \\\n",
        "    .json(str(PATH_TO_DATA / \"followers_posts_api_final.json\"))\n",
        "\n",
        "followers_posts.limit(10).toPandas()"
      ],
      "outputs": [
        {
          "output_type": "execute_result",
          "execution_count": 6,
          "data": {
            "text/plain": [
              "                                         attachments      comments  \\\n",
              "0  [(None, None, None, None, None, None, None, No...  (0, 0, True)   \n",
              "1  [(None, None, None, None, None, None, (fe02668...  (0, 0, True)   \n",
              "2  [(None, None, None, None, None, None, (c25cda8...  (0, 0, True)   \n",
              "3  [(None, None, None, None, None, None, None, No...  (0, 0, True)   \n",
              "4  [(None, None, None, None, None, None, (7758fb4...  (0, 0, True)   \n",
              "5  [(None, None, None, None, None, None, (666dd69...  (0, 0, True)   \n",
              "6  [(None, None, None, None, None, None, (06ab977...  (0, 0, True)   \n",
              "7  [(None, None, None, None, None, None, (74fdfc9...  (0, 0, True)   \n",
              "8  [(None, None, None, None, None, None, (02804b0...  (0, 0, True)   \n",
              "9  [(None, None, None, None, None, None, (a88e65c...  (1, 1, True)   \n",
              "\n",
              "  copy_history copyright        date final_post  from_id   geo     id  \\\n",
              "0         None      None  1550165023       None    87449  None   3316   \n",
              "1         None      None  1553774858       None    87449  None   3318   \n",
              "2         None      None  1555602008       None    87449  None   3320   \n",
              "3         None      None  1558105050       None    87449  None   3322   \n",
              "4         None      None  1559301729       None    87449  None   3324   \n",
              "5         None      None  1564088944       None    87449  None   3325   \n",
              "6         None      None  1565162341       None    87449  None   3326   \n",
              "7         None      None  1566293696       None    87449  None   3327   \n",
              "8         None      None  1571221102       None    87449  None   3329   \n",
              "9         None      None  1559647730       None    94494  None  11752   \n",
              "\n",
              "  is_pinned          key          likes  owner_id  \\\n",
              "0      None   87449_3316   (1, 1, 6, 0)     87449   \n",
              "1      None   87449_3318  (1, 1, 11, 0)     87449   \n",
              "2      None   87449_3320  (1, 1, 10, 0)     87449   \n",
              "3      None   87449_3322   (1, 1, 8, 0)     87449   \n",
              "4      None   87449_3324   (1, 1, 8, 0)     87449   \n",
              "5      None   87449_3325  (1, 1, 10, 0)     87449   \n",
              "6      None   87449_3326   (1, 1, 6, 0)     87449   \n",
              "7      None   87449_3327   (1, 1, 9, 0)     87449   \n",
              "8      None   87449_3329   (1, 1, 0, 0)     87449   \n",
              "9      None  94494_11752  (1, 1, 17, 0)     94494   \n",
              "\n",
              "                       post_source post_type reposts signer_id  \\\n",
              "0  (None, None, iphone, api, None)      post  (0, 0)      None   \n",
              "1  (None, None, iphone, api, None)      post  (0, 0)      None   \n",
              "2  (None, None, iphone, api, None)      post  (0, 0)      None   \n",
              "3  (None, None, iphone, api, None)      post  (1, 0)      None   \n",
              "4  (None, None, iphone, api, None)      post  (0, 0)      None   \n",
              "5  (None, None, iphone, api, None)      post  (0, 0)      None   \n",
              "6  (None, None, iphone, api, None)      post  (0, 0)      None   \n",
              "7  (None, None, iphone, api, None)      post  (0, 0)      None   \n",
              "8  (None, None, iphone, api, None)      post  (0, 0)      None   \n",
              "9     (None, None, None, vk, None)      post  (0, 0)      None   \n",
              "\n",
              "                                                text unavailable   views  \n",
              "0  Я люблю Вас. Я вчера, даже, хотел Вам это сказ...        None  (428,)  \n",
              "1                             call me by your name ♡        None  (477,)  \n",
              "2                                                  🦋        None  (419,)  \n",
              "3                                        Браво,Юра !        None  (442,)  \n",
              "4                                                  🕊        None  (425,)  \n",
              "5  Самый неприятный побочный эффект взросления дл...        None  (301,)  \n",
              "6                                                  🔅        None  (309,)  \n",
              "7  Пекло.Пушка.Вышка.\\nЧёртов гений Тарантино. Лю...        None  (366,)  \n",
              "8                                                           None  (139,)  \n",
              "9  Тот неловкий момент, когда прилетел из унылого...        None  (594,)  "
            ],
            "text/html": [
              "<div>\n",
              "<style scoped>\n",
              "    .dataframe tbody tr th:only-of-type {\n",
              "        vertical-align: middle;\n",
              "    }\n",
              "\n",
              "    .dataframe tbody tr th {\n",
              "        vertical-align: top;\n",
              "    }\n",
              "\n",
              "    .dataframe thead th {\n",
              "        text-align: right;\n",
              "    }\n",
              "</style>\n",
              "<table border=\"1\" class=\"dataframe\">\n",
              "  <thead>\n",
              "    <tr style=\"text-align: right;\">\n",
              "      <th></th>\n",
              "      <th>attachments</th>\n",
              "      <th>comments</th>\n",
              "      <th>copy_history</th>\n",
              "      <th>copyright</th>\n",
              "      <th>date</th>\n",
              "      <th>final_post</th>\n",
              "      <th>from_id</th>\n",
              "      <th>geo</th>\n",
              "      <th>id</th>\n",
              "      <th>is_pinned</th>\n",
              "      <th>key</th>\n",
              "      <th>likes</th>\n",
              "      <th>owner_id</th>\n",
              "      <th>post_source</th>\n",
              "      <th>post_type</th>\n",
              "      <th>reposts</th>\n",
              "      <th>signer_id</th>\n",
              "      <th>text</th>\n",
              "      <th>unavailable</th>\n",
              "      <th>views</th>\n",
              "    </tr>\n",
              "  </thead>\n",
              "  <tbody>\n",
              "    <tr>\n",
              "      <th>0</th>\n",
              "      <td>[(None, None, None, None, None, None, None, No...</td>\n",
              "      <td>(0, 0, True)</td>\n",
              "      <td>None</td>\n",
              "      <td>None</td>\n",
              "      <td>1550165023</td>\n",
              "      <td>None</td>\n",
              "      <td>87449</td>\n",
              "      <td>None</td>\n",
              "      <td>3316</td>\n",
              "      <td>None</td>\n",
              "      <td>87449_3316</td>\n",
              "      <td>(1, 1, 6, 0)</td>\n",
              "      <td>87449</td>\n",
              "      <td>(None, None, iphone, api, None)</td>\n",
              "      <td>post</td>\n",
              "      <td>(0, 0)</td>\n",
              "      <td>None</td>\n",
              "      <td>Я люблю Вас. Я вчера, даже, хотел Вам это сказ...</td>\n",
              "      <td>None</td>\n",
              "      <td>(428,)</td>\n",
              "    </tr>\n",
              "    <tr>\n",
              "      <th>1</th>\n",
              "      <td>[(None, None, None, None, None, None, (fe02668...</td>\n",
              "      <td>(0, 0, True)</td>\n",
              "      <td>None</td>\n",
              "      <td>None</td>\n",
              "      <td>1553774858</td>\n",
              "      <td>None</td>\n",
              "      <td>87449</td>\n",
              "      <td>None</td>\n",
              "      <td>3318</td>\n",
              "      <td>None</td>\n",
              "      <td>87449_3318</td>\n",
              "      <td>(1, 1, 11, 0)</td>\n",
              "      <td>87449</td>\n",
              "      <td>(None, None, iphone, api, None)</td>\n",
              "      <td>post</td>\n",
              "      <td>(0, 0)</td>\n",
              "      <td>None</td>\n",
              "      <td>call me by your name ♡</td>\n",
              "      <td>None</td>\n",
              "      <td>(477,)</td>\n",
              "    </tr>\n",
              "    <tr>\n",
              "      <th>2</th>\n",
              "      <td>[(None, None, None, None, None, None, (c25cda8...</td>\n",
              "      <td>(0, 0, True)</td>\n",
              "      <td>None</td>\n",
              "      <td>None</td>\n",
              "      <td>1555602008</td>\n",
              "      <td>None</td>\n",
              "      <td>87449</td>\n",
              "      <td>None</td>\n",
              "      <td>3320</td>\n",
              "      <td>None</td>\n",
              "      <td>87449_3320</td>\n",
              "      <td>(1, 1, 10, 0)</td>\n",
              "      <td>87449</td>\n",
              "      <td>(None, None, iphone, api, None)</td>\n",
              "      <td>post</td>\n",
              "      <td>(0, 0)</td>\n",
              "      <td>None</td>\n",
              "      <td>🦋</td>\n",
              "      <td>None</td>\n",
              "      <td>(419,)</td>\n",
              "    </tr>\n",
              "    <tr>\n",
              "      <th>3</th>\n",
              "      <td>[(None, None, None, None, None, None, None, No...</td>\n",
              "      <td>(0, 0, True)</td>\n",
              "      <td>None</td>\n",
              "      <td>None</td>\n",
              "      <td>1558105050</td>\n",
              "      <td>None</td>\n",
              "      <td>87449</td>\n",
              "      <td>None</td>\n",
              "      <td>3322</td>\n",
              "      <td>None</td>\n",
              "      <td>87449_3322</td>\n",
              "      <td>(1, 1, 8, 0)</td>\n",
              "      <td>87449</td>\n",
              "      <td>(None, None, iphone, api, None)</td>\n",
              "      <td>post</td>\n",
              "      <td>(1, 0)</td>\n",
              "      <td>None</td>\n",
              "      <td>Браво,Юра !</td>\n",
              "      <td>None</td>\n",
              "      <td>(442,)</td>\n",
              "    </tr>\n",
              "    <tr>\n",
              "      <th>4</th>\n",
              "      <td>[(None, None, None, None, None, None, (7758fb4...</td>\n",
              "      <td>(0, 0, True)</td>\n",
              "      <td>None</td>\n",
              "      <td>None</td>\n",
              "      <td>1559301729</td>\n",
              "      <td>None</td>\n",
              "      <td>87449</td>\n",
              "      <td>None</td>\n",
              "      <td>3324</td>\n",
              "      <td>None</td>\n",
              "      <td>87449_3324</td>\n",
              "      <td>(1, 1, 8, 0)</td>\n",
              "      <td>87449</td>\n",
              "      <td>(None, None, iphone, api, None)</td>\n",
              "      <td>post</td>\n",
              "      <td>(0, 0)</td>\n",
              "      <td>None</td>\n",
              "      <td>🕊</td>\n",
              "      <td>None</td>\n",
              "      <td>(425,)</td>\n",
              "    </tr>\n",
              "    <tr>\n",
              "      <th>5</th>\n",
              "      <td>[(None, None, None, None, None, None, (666dd69...</td>\n",
              "      <td>(0, 0, True)</td>\n",
              "      <td>None</td>\n",
              "      <td>None</td>\n",
              "      <td>1564088944</td>\n",
              "      <td>None</td>\n",
              "      <td>87449</td>\n",
              "      <td>None</td>\n",
              "      <td>3325</td>\n",
              "      <td>None</td>\n",
              "      <td>87449_3325</td>\n",
              "      <td>(1, 1, 10, 0)</td>\n",
              "      <td>87449</td>\n",
              "      <td>(None, None, iphone, api, None)</td>\n",
              "      <td>post</td>\n",
              "      <td>(0, 0)</td>\n",
              "      <td>None</td>\n",
              "      <td>Самый неприятный побочный эффект взросления дл...</td>\n",
              "      <td>None</td>\n",
              "      <td>(301,)</td>\n",
              "    </tr>\n",
              "    <tr>\n",
              "      <th>6</th>\n",
              "      <td>[(None, None, None, None, None, None, (06ab977...</td>\n",
              "      <td>(0, 0, True)</td>\n",
              "      <td>None</td>\n",
              "      <td>None</td>\n",
              "      <td>1565162341</td>\n",
              "      <td>None</td>\n",
              "      <td>87449</td>\n",
              "      <td>None</td>\n",
              "      <td>3326</td>\n",
              "      <td>None</td>\n",
              "      <td>87449_3326</td>\n",
              "      <td>(1, 1, 6, 0)</td>\n",
              "      <td>87449</td>\n",
              "      <td>(None, None, iphone, api, None)</td>\n",
              "      <td>post</td>\n",
              "      <td>(0, 0)</td>\n",
              "      <td>None</td>\n",
              "      <td>🔅</td>\n",
              "      <td>None</td>\n",
              "      <td>(309,)</td>\n",
              "    </tr>\n",
              "    <tr>\n",
              "      <th>7</th>\n",
              "      <td>[(None, None, None, None, None, None, (74fdfc9...</td>\n",
              "      <td>(0, 0, True)</td>\n",
              "      <td>None</td>\n",
              "      <td>None</td>\n",
              "      <td>1566293696</td>\n",
              "      <td>None</td>\n",
              "      <td>87449</td>\n",
              "      <td>None</td>\n",
              "      <td>3327</td>\n",
              "      <td>None</td>\n",
              "      <td>87449_3327</td>\n",
              "      <td>(1, 1, 9, 0)</td>\n",
              "      <td>87449</td>\n",
              "      <td>(None, None, iphone, api, None)</td>\n",
              "      <td>post</td>\n",
              "      <td>(0, 0)</td>\n",
              "      <td>None</td>\n",
              "      <td>Пекло.Пушка.Вышка.\\nЧёртов гений Тарантино. Лю...</td>\n",
              "      <td>None</td>\n",
              "      <td>(366,)</td>\n",
              "    </tr>\n",
              "    <tr>\n",
              "      <th>8</th>\n",
              "      <td>[(None, None, None, None, None, None, (02804b0...</td>\n",
              "      <td>(0, 0, True)</td>\n",
              "      <td>None</td>\n",
              "      <td>None</td>\n",
              "      <td>1571221102</td>\n",
              "      <td>None</td>\n",
              "      <td>87449</td>\n",
              "      <td>None</td>\n",
              "      <td>3329</td>\n",
              "      <td>None</td>\n",
              "      <td>87449_3329</td>\n",
              "      <td>(1, 1, 0, 0)</td>\n",
              "      <td>87449</td>\n",
              "      <td>(None, None, iphone, api, None)</td>\n",
              "      <td>post</td>\n",
              "      <td>(0, 0)</td>\n",
              "      <td>None</td>\n",
              "      <td></td>\n",
              "      <td>None</td>\n",
              "      <td>(139,)</td>\n",
              "    </tr>\n",
              "    <tr>\n",
              "      <th>9</th>\n",
              "      <td>[(None, None, None, None, None, None, (a88e65c...</td>\n",
              "      <td>(1, 1, True)</td>\n",
              "      <td>None</td>\n",
              "      <td>None</td>\n",
              "      <td>1559647730</td>\n",
              "      <td>None</td>\n",
              "      <td>94494</td>\n",
              "      <td>None</td>\n",
              "      <td>11752</td>\n",
              "      <td>None</td>\n",
              "      <td>94494_11752</td>\n",
              "      <td>(1, 1, 17, 0)</td>\n",
              "      <td>94494</td>\n",
              "      <td>(None, None, None, vk, None)</td>\n",
              "      <td>post</td>\n",
              "      <td>(0, 0)</td>\n",
              "      <td>None</td>\n",
              "      <td>Тот неловкий момент, когда прилетел из унылого...</td>\n",
              "      <td>None</td>\n",
              "      <td>(594,)</td>\n",
              "    </tr>\n",
              "  </tbody>\n",
              "</table>\n",
              "</div>"
            ]
          },
          "metadata": {}
        }
      ],
      "execution_count": 6,
      "metadata": {
        "collapsed": true,
        "jupyter": {
          "source_hidden": false,
          "outputs_hidden": false
        },
        "nteract": {
          "transient": {
            "deleting": false
          }
        },
        "execution": {
          "iopub.status.busy": "2020-06-19T21:37:05.409Z",
          "iopub.execute_input": "2020-06-19T21:37:05.415Z",
          "iopub.status.idle": "2020-06-19T21:37:10.535Z",
          "shell.execute_reply": "2020-06-19T21:37:10.561Z"
        }
      }
    },
    {
      "cell_type": "markdown",
      "source": [
        "## Task 3"
      ],
      "metadata": {
        "nteract": {
          "transient": {
            "deleting": false
          }
        }
      }
    },
    {
      "cell_type": "markdown",
      "source": [
        "Get reposts of the original posts of the itmo group (posts.json) from user posts (the result should be similar to (group_post_id, Array (user_post_ids)))"
      ],
      "metadata": {
        "nteract": {
          "transient": {
            "deleting": false
          }
        }
      }
    },
    {
      "cell_type": "code",
      "source": [
        "group_reposts = followers_posts \\\n",
        "    .select(explode(\"copy_history\") \\\n",
        "    .alias(\"original_post\"), \"owner_id\", \"id\") \\\n",
        "    .withColumnRenamed(\"id\", \"user_post_id\") \\\n",
        "    .filter(\"original_post.owner_id == -94\") \\\n",
        "    .select(\"original_post.id\", \"owner_id\", \"user_post_id\") \\\n",
        "    .withColumnRenamed(\"id\", \"group_post_id\") \\\n",
        "    .groupBy(\"group_post_id\") \\\n",
        "    .agg(collect_list(\"user_post_id\").alias(\"user_post_ids\"))\n",
        "  \n",
        "save_as_json(group_reposts, \"task3_group_reposts.json\")\n",
        "\n",
        "group_reposts.limit(10).toPandas()"
      ],
      "outputs": [
        {
          "output_type": "execute_result",
          "execution_count": 12,
          "data": {
            "text/plain": [
              "   group_post_id                                      user_post_ids\n",
              "0          41424                                  [6941, 4125, 529]\n",
              "1          39407                                       [3536, 9214]\n",
              "2          42388                                            [11053]\n",
              "3          39719                                             [1160]\n",
              "4          40011                                [4770, 2559, 19267]\n",
              "5          38963                       [4868, 3720, 393, 6403, 814]\n",
              "6          39259  [14840, 10683, 3560, 1751, 1205, 822, 10810, 1...\n",
              "7          40084                                              [536]\n",
              "8          41506                        [12823, 135, 670, 397, 398]\n",
              "9          42009                                        [1509, 120]"
            ],
            "text/html": [
              "<div>\n",
              "<style scoped>\n",
              "    .dataframe tbody tr th:only-of-type {\n",
              "        vertical-align: middle;\n",
              "    }\n",
              "\n",
              "    .dataframe tbody tr th {\n",
              "        vertical-align: top;\n",
              "    }\n",
              "\n",
              "    .dataframe thead th {\n",
              "        text-align: right;\n",
              "    }\n",
              "</style>\n",
              "<table border=\"1\" class=\"dataframe\">\n",
              "  <thead>\n",
              "    <tr style=\"text-align: right;\">\n",
              "      <th></th>\n",
              "      <th>group_post_id</th>\n",
              "      <th>user_post_ids</th>\n",
              "    </tr>\n",
              "  </thead>\n",
              "  <tbody>\n",
              "    <tr>\n",
              "      <th>0</th>\n",
              "      <td>41424</td>\n",
              "      <td>[6941, 4125, 529]</td>\n",
              "    </tr>\n",
              "    <tr>\n",
              "      <th>1</th>\n",
              "      <td>39407</td>\n",
              "      <td>[3536, 9214]</td>\n",
              "    </tr>\n",
              "    <tr>\n",
              "      <th>2</th>\n",
              "      <td>42388</td>\n",
              "      <td>[11053]</td>\n",
              "    </tr>\n",
              "    <tr>\n",
              "      <th>3</th>\n",
              "      <td>39719</td>\n",
              "      <td>[1160]</td>\n",
              "    </tr>\n",
              "    <tr>\n",
              "      <th>4</th>\n",
              "      <td>40011</td>\n",
              "      <td>[4770, 2559, 19267]</td>\n",
              "    </tr>\n",
              "    <tr>\n",
              "      <th>5</th>\n",
              "      <td>38963</td>\n",
              "      <td>[4868, 3720, 393, 6403, 814]</td>\n",
              "    </tr>\n",
              "    <tr>\n",
              "      <th>6</th>\n",
              "      <td>39259</td>\n",
              "      <td>[14840, 10683, 3560, 1751, 1205, 822, 10810, 1...</td>\n",
              "    </tr>\n",
              "    <tr>\n",
              "      <th>7</th>\n",
              "      <td>40084</td>\n",
              "      <td>[536]</td>\n",
              "    </tr>\n",
              "    <tr>\n",
              "      <th>8</th>\n",
              "      <td>41506</td>\n",
              "      <td>[12823, 135, 670, 397, 398]</td>\n",
              "    </tr>\n",
              "    <tr>\n",
              "      <th>9</th>\n",
              "      <td>42009</td>\n",
              "      <td>[1509, 120]</td>\n",
              "    </tr>\n",
              "  </tbody>\n",
              "</table>\n",
              "</div>"
            ]
          },
          "metadata": {}
        }
      ],
      "execution_count": 12,
      "metadata": {
        "collapsed": true,
        "jupyter": {
          "source_hidden": false,
          "outputs_hidden": false
        },
        "nteract": {
          "transient": {
            "deleting": false
          }
        },
        "execution": {
          "iopub.status.busy": "2020-06-19T21:44:47.727Z",
          "iopub.execute_input": "2020-06-19T21:44:47.730Z",
          "iopub.status.idle": "2020-06-19T21:45:04.925Z",
          "shell.execute_reply": "2020-06-19T21:45:04.937Z"
        }
      }
    }
  ],
  "metadata": {
    "kernel_info": {
      "name": "python3"
    },
    "language_info": {
      "name": "python",
      "version": "3.7.6",
      "mimetype": "text/x-python",
      "codemirror_mode": {
        "name": "ipython",
        "version": 3
      },
      "pygments_lexer": "ipython3",
      "nbconvert_exporter": "python",
      "file_extension": ".py"
    },
    "kernelspec": {
      "argv": [
        "/Users/olegtaratuhin/miniconda3/bin/python",
        "-m",
        "ipykernel_launcher",
        "-f",
        "{connection_file}"
      ],
      "display_name": "Python 3",
      "language": "python",
      "name": "python3"
    },
    "nteract": {
      "version": "0.23.3"
    }
  },
  "nbformat": 4,
  "nbformat_minor": 0
}